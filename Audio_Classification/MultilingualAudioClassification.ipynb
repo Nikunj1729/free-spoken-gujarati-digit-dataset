{
  "cells": [
    {
      "cell_type": "markdown",
      "metadata": {
        "id": "TLq9fTB2LpQl"
      },
      "source": [
        "# Multi-Lingual Audio Classification based on wav2vec2\n",
        "\n",
        "#### Dataset language: Gujarati\n",
        "#### Model: Wav2vec\n",
        "#### Size: Base\n",
        "#### Framework: HuggingFace\n",
        "#### FinalAccuarcy: 99.2\n",
        "####\n",
        "\n",
        "\n",
        "Final Model: https://huggingface.co/manthan40/wav2vec2-base-finetuned-manthan_base"
      ]
    },
    {
      "cell_type": "markdown",
      "metadata": {
        "id": "dZMgxEg0MSVO"
      },
      "source": []
    },
    {
      "cell_type": "code",
      "execution_count": null,
      "metadata": {
        "id": "XCf_ozwuLovV"
      },
      "outputs": [],
      "source": [
        "model_checkpoint = \"facebook/wav2vec2-base\"\n",
        "batch_size = 32"
      ]
    },
    {
      "cell_type": "code",
      "execution_count": 78,
      "metadata": {
        "id": "c36ym6dRq_93"
      },
      "outputs": [],
      "source": [
        "%%capture\n",
        "!pip install datasets==1.14\n",
        "!pip install transformers==4.19.0\n",
        "!pip install librosa"
      ]
    },
    {
      "cell_type": "code",
      "execution_count": 79,
      "metadata": {
        "colab": {
          "base_uri": "https://localhost:8080/",
          "height": 386,
          "referenced_widgets": [
            "8ab08e67a3674f35be23ad4ffd918915",
            "2fa8d5afcc0a4cb2ad5b0a7f8682c6b3",
            "190363dd40e141779410e0a96dc6e3fe",
            "3368abeebf1547f1a43b7f2fe7513fae",
            "c3c1e84bf7f84e61bebaff2acc053c54",
            "4ed9c6726f4c495ca5cabf3da6f19848",
            "d005a6642d6c4f1b899a5b4ecc0b5b72",
            "b64b6306dacd45dfaeaead24ed3f2c44",
            "c3c0c14f787b4baeb7ca98e8921d04e2",
            "80531c00af1340a587031d7169c573c8",
            "0997b21dc1254cf69cd9bc8337a810a3",
            "95d4169cbb724d309c1cb298859ce026",
            "23d9fc2964cf42c9a4b282926f281639",
            "7d5f660959cf4c6d907eb4e524fe542a",
            "1010e4d43c174484971674062a5ae061",
            "5c653b9772db45e7b2fde0b067c475a7",
            "e671ce3f39614a859d79b0d6b6610426"
          ]
        },
        "id": "dxcgjMN2rCii",
        "outputId": "6d9092e1-34b9-496c-dd71-70439a95d9c5"
      },
      "outputs": [
        {
          "data": {
            "application/vnd.jupyter.widget-view+json": {
              "model_id": "8ab08e67a3674f35be23ad4ffd918915",
              "version_major": 2,
              "version_minor": 0
            },
            "text/plain": [
              "VBox(children=(HTML(value='<center> <img\\nsrc=https://huggingface.co/front/assets/huggingface_logo-noborder.sv…"
            ]
          },
          "metadata": {},
          "output_type": "display_data"
        }
      ],
      "source": [
        "# from huggingface_hub import notebook_login\n",
        "# notebook_login()"
      ]
    },
    {
      "cell_type": "code",
      "execution_count": 80,
      "metadata": {
        "id": "8O458p19rFII"
      },
      "outputs": [],
      "source": [
        "%%capture\n",
        "!apt install git-lfs"
      ]
    },
    {
      "cell_type": "code",
      "execution_count": 81,
      "metadata": {
        "id": "E4uKJoLDrKqW"
      },
      "outputs": [],
      "source": [
        "from datasets import load_dataset, load_metric\n",
        "metric = load_metric(\"accuracy\")"
      ]
    },
    {
      "cell_type": "markdown",
      "metadata": {
        "id": "tm7Xa721Js01"
      },
      "source": [
        "# Step 1: Multi-lingual Audio (Gujarati digits)\n",
        "\n",
        "####Cite: https://link.springer.com/chapter/10.1007/978-981-15-4828-4_18\n",
        "####Ref: https://github.com/Nikunj1729/free-spoken-gujarati-digit-dataset\n"
      ]
    },
    {
      "cell_type": "code",
      "execution_count": 88,
      "metadata": {
        "colab": {
          "base_uri": "https://localhost:8080/"
        },
        "id": "KFwM2mQpJ30m",
        "outputId": "68128027-33da-4773-80ef-d0c63442022f"
      },
      "outputs": [
        {
          "name": "stdout",
          "output_type": "stream",
          "text": [
            "Cloning into 'free-spoken-gujarati-digit-dataset'...\n",
            "remote: Enumerating objects: 3333, done.\u001b[K\n",
            "remote: Counting objects: 100% (21/21), done.\u001b[K\n",
            "remote: Compressing objects: 100% (19/19), done.\u001b[K\n",
            "remote: Total 3333 (delta 10), reused 0 (delta 0), pack-reused 3312\u001b[K\n",
            "Receiving objects: 100% (3333/3333), 281.99 MiB | 29.99 MiB/s, done.\n",
            "Resolving deltas: 100% (1316/1316), done.\n",
            "Checking out files: 100% (1956/1956), done.\n",
            "mv: cannot move 'free-spoken-gujarati-digit-dataset' to 'load_guj/free-spoken-gujarati-digit-dataset': Directory not empty\n",
            "fatal: destination path 'AI' already exists and is not an empty directory.\n"
          ]
        }
      ],
      "source": [
        "!git clone https://github.com/Nikunj1729/free-spoken-gujarati-digit-dataset\n",
        "!mv free-spoken-gujarati-digit-dataset load_guj\n",
        "!git clone https://github.com/manthanthakker/AI.git"
      ]
    },
    {
      "cell_type": "markdown",
      "metadata": {
        "id": "pVgXGlCcLCg9"
      },
      "source": [
        "### Custom Dataloader for Gujarati Dataset"
      ]
    },
    {
      "cell_type": "code",
      "execution_count": null,
      "metadata": {
        "id": "9Qjm-UBgLBe4"
      },
      "outputs": [],
      "source": [
        "!cp /content/AI/examples/load_guj.py load_guj/"
      ]
    },
    {
      "cell_type": "code",
      "execution_count": 116,
      "metadata": {
        "id": "ZWO5DBzpiByk"
      },
      "outputs": [],
      "source": [
        "import glob\n",
        "all_wavs=glob.glob(\"/content/load_guj/**/*.wav\", recursive=True)\n",
        "\n",
        "\n",
        "from sklearn.model_selection import train_test_split\n",
        "x, Y=train_test_split(all_wavs, test_size=0.2)\n",
        "\n",
        "##Create train and validate json file\n",
        "import json\n",
        "with open('/content/load_guj/train.jsonl', 'w') as outfile:\n",
        "    for entry in x:\n",
        "        json.dump(entry, outfile)\n",
        "        outfile.write('\\n')\n",
        "with open(\"/content/load_guj/test.jsonl\", \"w\") as outfile:\n",
        "    for entry in Y:\n",
        "        json.dump(entry, outfile)\n",
        "        outfile.write('\\n')\n",
        "!cp /content/load_guj/test.jsonl /content/load_guj/dev.jsonl"
      ]
    },
    {
      "cell_type": "markdown",
      "metadata": {
        "id": "oGV0UxnoLVDo"
      },
      "source": [
        "#### Load Dataset"
      ]
    },
    {
      "cell_type": "code",
      "execution_count": 91,
      "metadata": {
        "colab": {
          "base_uri": "https://localhost:8080/"
        },
        "id": "R1-0jQsUJ44Q",
        "outputId": "e83fa190-51f2-44ed-81ed-e5e3e5087c82"
      },
      "outputs": [
        {
          "name": "stderr",
          "output_type": "stream",
          "text": [
            "No config specified, defaulting to: new_dataset/train\n",
            "Reusing dataset new_dataset (/root/.cache/huggingface/datasets/new_dataset/train/1.1.0/78ee31d629cffeb08c29d8df707ee423a81b3d01b5a03e23006849a5418ea5fd)\n",
            "No config specified, defaulting to: new_dataset/train\n",
            "Reusing dataset new_dataset (/root/.cache/huggingface/datasets/new_dataset/train/1.1.0/78ee31d629cffeb08c29d8df707ee423a81b3d01b5a03e23006849a5418ea5fd)\n"
          ]
        }
      ],
      "source": [
        "from datasets import load_dataset, load_metric\n",
        "train_data=load_dataset(\"/content/load_guj/load_guj.py\",split=\"train\")\n",
        "val_data=load_dataset(\"/content/load_guj/load_guj.py\",split=\"test\")\n",
        "test_data=val_data"
      ]
    },
    {
      "cell_type": "code",
      "execution_count": 92,
      "metadata": {
        "id": "k4pD6ZPJKRjQ"
      },
      "outputs": [],
      "source": [
        "from datasets.dataset_dict import DatasetDict\n",
        "from datasets.dataset_dict import DatasetDict\n",
        "dataset={}\n",
        "dataset[\"train\"]=train_data\n",
        "dataset[\"test\"]=test_data\n",
        "dataset=DatasetDict(dataset)"
      ]
    },
    {
      "cell_type": "code",
      "execution_count": 93,
      "metadata": {
        "colab": {
          "base_uri": "https://localhost:8080/",
          "height": 36
        },
        "id": "ASbmcAZQKXzT",
        "outputId": "6e9ffea7-f935-43f0-b1e9-8e7bc2f4e30b"
      },
      "outputs": [
        {
          "data": {
            "application/vnd.google.colaboratory.intrinsic+json": {
              "type": "string"
            },
            "text/plain": [
              "'9'"
            ]
          },
          "execution_count": 93,
          "metadata": {},
          "output_type": "execute_result"
        }
      ],
      "source": [
        "labels = dataset[\"train\"].features[\"label\"].names\n",
        "label2id, id2label = dict(), dict()\n",
        "for i, label in enumerate(labels):\n",
        "    label2id[label] = str(i)\n",
        "    id2label[str(i)] = label\n",
        "\n",
        "id2label[\"9\"]"
      ]
    },
    {
      "cell_type": "code",
      "execution_count": 94,
      "metadata": {
        "colab": {
          "base_uri": "https://localhost:8080/"
        },
        "id": "dRzTmYiQVZ5l",
        "outputId": "c4aa8697-08c0-4d64-f0b9-e64799426d25"
      },
      "outputs": [
        {
          "data": {
            "text/plain": [
              "{'0': '0',\n",
              " '1': '1',\n",
              " '2': '2',\n",
              " '3': '3',\n",
              " '4': '4',\n",
              " '5': '5',\n",
              " '6': '6',\n",
              " '7': '7',\n",
              " '8': '8',\n",
              " '9': '9',\n",
              " '_silence_': '10',\n",
              " '_unknown_': '11'}"
            ]
          },
          "execution_count": 94,
          "metadata": {},
          "output_type": "execute_result"
        }
      ],
      "source": [
        "label2id"
      ]
    },
    {
      "cell_type": "markdown",
      "metadata": {
        "id": "izJD3XdqLZFJ"
      },
      "source": [
        "## Sample Files"
      ]
    },
    {
      "cell_type": "code",
      "execution_count": 95,
      "metadata": {
        "colab": {
          "base_uri": "https://localhost:8080/",
          "height": 589
        },
        "id": "OG1-MhguKnP8",
        "outputId": "0c0a3b87-1d67-4d4d-c267-36ea762608d8"
      },
      "outputs": [
        {
          "name": "stdout",
          "output_type": "stream",
          "text": [
            "Label: 8\n",
            "Shape: (11883,), sampling rate: 16000\n"
          ]
        },
        {
          "data": {
            "text/html": [
              "\n",
              "                <audio controls=\"controls\" >\n",
              "                    <source src=\"data:audio/wav;base64,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\" type=\"audio/wav\" />\n",
              "                    Your browser does not support the audio element.\n",
              "                </audio>\n",
              "              "
            ],
            "text/plain": [
              "<IPython.lib.display.Audio object>"
            ]
          },
          "metadata": {},
          "output_type": "display_data"
        },
        {
          "name": "stdout",
          "output_type": "stream",
          "text": [
            "\n",
            "Label: 4\n",
            "Shape: (13036,), sampling rate: 16000\n"
          ]
        },
        {
          "data": {
            "text/html": [
              "\n",
              "                <audio controls=\"controls\" >\n",
              "                    <source src=\"data:audio/wav;base64,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\" type=\"audio/wav\" />\n",
              "                    Your browser does not support the audio element.\n",
              "                </audio>\n",
              "              "
            ],
            "text/plain": [
              "<IPython.lib.display.Audio object>"
            ]
          },
          "metadata": {},
          "output_type": "display_data"
        },
        {
          "name": "stdout",
          "output_type": "stream",
          "text": [
            "\n",
            "Label: 6\n",
            "Shape: (14159,), sampling rate: 16000\n"
          ]
        },
        {
          "data": {
            "text/html": [
              "\n",
              "                <audio controls=\"controls\" >\n",
              "                    <source src=\"data:audio/wav;base64,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\" type=\"audio/wav\" />\n",
              "                    Your browser does not support the audio element.\n",
              "                </audio>\n",
              "              "
            ],
            "text/plain": [
              "<IPython.lib.display.Audio object>"
            ]
          },
          "metadata": {},
          "output_type": "display_data"
        },
        {
          "name": "stdout",
          "output_type": "stream",
          "text": [
            "\n",
            "Label: 6\n",
            "Shape: (10672,), sampling rate: 16000\n"
          ]
        },
        {
          "data": {
            "text/html": [
              "\n",
              "                <audio controls=\"controls\" >\n",
              "                    <source src=\"data:audio/wav;base64,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\" type=\"audio/wav\" />\n",
              "                    Your browser does not support the audio element.\n",
              "                </audio>\n",
              "              "
            ],
            "text/plain": [
              "<IPython.lib.display.Audio object>"
            ]
          },
          "metadata": {},
          "output_type": "display_data"
        },
        {
          "name": "stdout",
          "output_type": "stream",
          "text": [
            "\n",
            "Label: 9\n",
            "Shape: (12245,), sampling rate: 16000\n"
          ]
        },
        {
          "data": {
            "text/html": [
              "\n",
              "                <audio controls=\"controls\" >\n",
              "                    <source src=\"data:audio/wav;base64,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\" type=\"audio/wav\" />\n",
              "                    Your browser does not support the audio element.\n",
              "                </audio>\n",
              "              "
            ],
            "text/plain": [
              "<IPython.lib.display.Audio object>"
            ]
          },
          "metadata": {},
          "output_type": "display_data"
        },
        {
          "name": "stdout",
          "output_type": "stream",
          "text": [
            "\n"
          ]
        }
      ],
      "source": [
        "import random\n",
        "from IPython.display import Audio, display\n",
        "\n",
        "for _ in range(5):\n",
        "    rand_idx = random.randint(0, len(dataset[\"train\"])-1)\n",
        "    example = dataset[\"train\"][rand_idx]\n",
        "    audio = example[\"audio\"]\n",
        "\n",
        "    print(f'Label: {id2label[str(example[\"label\"])]}')\n",
        "    print(f'Shape: {audio[\"array\"].shape}, sampling rate: {audio[\"sampling_rate\"]}')\n",
        "    display(Audio(audio[\"array\"], rate=audio[\"sampling_rate\"]))\n",
        "    print()"
      ]
    },
    {
      "cell_type": "code",
      "execution_count": 96,
      "metadata": {
        "colab": {
          "base_uri": "https://localhost:8080/"
        },
        "id": "mGyb7On-Q5R1",
        "outputId": "4e8837ce-e5e9-4a3a-ba84-aad6484dadd7"
      },
      "outputs": [
        {
          "data": {
            "text/plain": [
              "{'audio': {'array': array([-0.00018244, -0.00060319, -0.00058527, ..., -0.00145032,\n",
              "         -0.00036994,  0.        ], dtype=float32),\n",
              "  'path': '/content/load_guj/R3 - South Zone/S3/R3S3T7D4.wav',\n",
              "  'sampling_rate': 16000},\n",
              " 'file': '/content/load_guj/R3 - South Zone/S3/R3S3T7D4.wav',\n",
              " 'label': 4}"
            ]
          },
          "execution_count": 96,
          "metadata": {},
          "output_type": "execute_result"
        }
      ],
      "source": [
        "dataset[\"train\"][2]"
      ]
    },
    {
      "cell_type": "markdown",
      "metadata": {
        "id": "q62W2NeJ06rL"
      },
      "source": [
        "# Step 2: Pre processing"
      ]
    },
    {
      "cell_type": "code",
      "execution_count": 97,
      "metadata": {
        "id": "3fLGyHRXzaTb"
      },
      "outputs": [],
      "source": [
        "max_duration = 1.0  # seconds"
      ]
    },
    {
      "cell_type": "markdown",
      "metadata": {
        "id": "EuBtmaGiLc9P"
      },
      "source": [
        "### Feature Extractor"
      ]
    },
    {
      "cell_type": "code",
      "execution_count": 98,
      "metadata": {
        "colab": {
          "base_uri": "https://localhost:8080/"
        },
        "id": "IFUFm4fl31NO",
        "outputId": "87d6bff3-4aa0-4282-cc1d-ca0ee942b73a"
      },
      "outputs": [
        {
          "name": "stderr",
          "output_type": "stream",
          "text": [
            "loading feature extractor configuration file https://huggingface.co/facebook/wav2vec2-base/resolve/main/preprocessor_config.json from cache at /root/.cache/huggingface/transformers/d4583dd9e59eb6295f8fe8b18833ae54d963a122d69aa1df7ecce6caafe18c8f.bc3155ca0bae3a39fc37fc6d64829c6a765f46480894658bb21c08db6155358d\n",
            "loading configuration file https://huggingface.co/facebook/wav2vec2-base/resolve/main/config.json from cache at /root/.cache/huggingface/transformers/c7746642f045322fd01afa31271dd490e677ea11999e68660a92619ec7c892b4.ce1f96bfaf3d7475cb8187b9668c7f19437ade45fb9ceb78d2b06a2cec198015\n",
            "/usr/local/lib/python3.7/dist-packages/transformers/configuration_utils.py:364: UserWarning: Passing `gradient_checkpointing` to a config initialization is deprecated and will be removed in v5 Transformers. Using `model.gradient_checkpointing_enable()` instead, or if you are using the `Trainer` API, pass `gradient_checkpointing=True` in your `TrainingArguments`.\n",
            "  \"Passing `gradient_checkpointing` to a config initialization is deprecated and will be removed in v5 \"\n",
            "Model config Wav2Vec2Config {\n",
            "  \"_name_or_path\": \"facebook/wav2vec2-base\",\n",
            "  \"activation_dropout\": 0.0,\n",
            "  \"adapter_kernel_size\": 3,\n",
            "  \"adapter_stride\": 2,\n",
            "  \"add_adapter\": false,\n",
            "  \"apply_spec_augment\": true,\n",
            "  \"architectures\": [\n",
            "    \"Wav2Vec2ForPreTraining\"\n",
            "  ],\n",
            "  \"attention_dropout\": 0.1,\n",
            "  \"bos_token_id\": 1,\n",
            "  \"classifier_proj_size\": 256,\n",
            "  \"codevector_dim\": 256,\n",
            "  \"contrastive_logits_temperature\": 0.1,\n",
            "  \"conv_bias\": false,\n",
            "  \"conv_dim\": [\n",
            "    512,\n",
            "    512,\n",
            "    512,\n",
            "    512,\n",
            "    512,\n",
            "    512,\n",
            "    512\n",
            "  ],\n",
            "  \"conv_kernel\": [\n",
            "    10,\n",
            "    3,\n",
            "    3,\n",
            "    3,\n",
            "    3,\n",
            "    2,\n",
            "    2\n",
            "  ],\n",
            "  \"conv_stride\": [\n",
            "    5,\n",
            "    2,\n",
            "    2,\n",
            "    2,\n",
            "    2,\n",
            "    2,\n",
            "    2\n",
            "  ],\n",
            "  \"ctc_loss_reduction\": \"sum\",\n",
            "  \"ctc_zero_infinity\": false,\n",
            "  \"diversity_loss_weight\": 0.1,\n",
            "  \"do_stable_layer_norm\": false,\n",
            "  \"eos_token_id\": 2,\n",
            "  \"feat_extract_activation\": \"gelu\",\n",
            "  \"feat_extract_norm\": \"group\",\n",
            "  \"feat_proj_dropout\": 0.1,\n",
            "  \"feat_quantizer_dropout\": 0.0,\n",
            "  \"final_dropout\": 0.0,\n",
            "  \"freeze_feat_extract_train\": true,\n",
            "  \"gradient_checkpointing\": true,\n",
            "  \"hidden_act\": \"gelu\",\n",
            "  \"hidden_dropout\": 0.1,\n",
            "  \"hidden_size\": 768,\n",
            "  \"initializer_range\": 0.02,\n",
            "  \"intermediate_size\": 3072,\n",
            "  \"layer_norm_eps\": 1e-05,\n",
            "  \"layerdrop\": 0.0,\n",
            "  \"mask_channel_length\": 10,\n",
            "  \"mask_channel_min_space\": 1,\n",
            "  \"mask_channel_other\": 0.0,\n",
            "  \"mask_channel_prob\": 0.0,\n",
            "  \"mask_channel_selection\": \"static\",\n",
            "  \"mask_feature_length\": 10,\n",
            "  \"mask_feature_min_masks\": 0,\n",
            "  \"mask_feature_prob\": 0.0,\n",
            "  \"mask_time_length\": 10,\n",
            "  \"mask_time_min_masks\": 2,\n",
            "  \"mask_time_min_space\": 1,\n",
            "  \"mask_time_other\": 0.0,\n",
            "  \"mask_time_prob\": 0.05,\n",
            "  \"mask_time_selection\": \"static\",\n",
            "  \"model_type\": \"wav2vec2\",\n",
            "  \"no_mask_channel_overlap\": false,\n",
            "  \"no_mask_time_overlap\": false,\n",
            "  \"num_adapter_layers\": 3,\n",
            "  \"num_attention_heads\": 12,\n",
            "  \"num_codevector_groups\": 2,\n",
            "  \"num_codevectors_per_group\": 320,\n",
            "  \"num_conv_pos_embedding_groups\": 16,\n",
            "  \"num_conv_pos_embeddings\": 128,\n",
            "  \"num_feat_extract_layers\": 7,\n",
            "  \"num_hidden_layers\": 12,\n",
            "  \"num_negatives\": 100,\n",
            "  \"output_hidden_size\": 768,\n",
            "  \"pad_token_id\": 0,\n",
            "  \"proj_codevector_dim\": 256,\n",
            "  \"tdnn_dilation\": [\n",
            "    1,\n",
            "    2,\n",
            "    3,\n",
            "    1,\n",
            "    1\n",
            "  ],\n",
            "  \"tdnn_dim\": [\n",
            "    512,\n",
            "    512,\n",
            "    512,\n",
            "    512,\n",
            "    1500\n",
            "  ],\n",
            "  \"tdnn_kernel\": [\n",
            "    5,\n",
            "    3,\n",
            "    3,\n",
            "    1,\n",
            "    1\n",
            "  ],\n",
            "  \"transformers_version\": \"4.19.0\",\n",
            "  \"use_weighted_layer_sum\": false,\n",
            "  \"vocab_size\": 32,\n",
            "  \"xvector_output_dim\": 512\n",
            "}\n",
            "\n",
            "Feature extractor Wav2Vec2FeatureExtractor {\n",
            "  \"do_normalize\": true,\n",
            "  \"feature_extractor_type\": \"Wav2Vec2FeatureExtractor\",\n",
            "  \"feature_size\": 1,\n",
            "  \"padding_side\": \"right\",\n",
            "  \"padding_value\": 0.0,\n",
            "  \"return_attention_mask\": false,\n",
            "  \"sampling_rate\": 16000\n",
            "}\n",
            "\n"
          ]
        },
        {
          "data": {
            "text/plain": [
              "Wav2Vec2FeatureExtractor {\n",
              "  \"do_normalize\": true,\n",
              "  \"feature_extractor_type\": \"Wav2Vec2FeatureExtractor\",\n",
              "  \"feature_size\": 1,\n",
              "  \"padding_side\": \"right\",\n",
              "  \"padding_value\": 0.0,\n",
              "  \"return_attention_mask\": false,\n",
              "  \"sampling_rate\": 16000\n",
              "}"
            ]
          },
          "execution_count": 98,
          "metadata": {},
          "output_type": "execute_result"
        }
      ],
      "source": [
        "from transformers import AutoFeatureExtractor\n",
        "# model_checkpoint = \"facebook/wav2vec2-base\"\n",
        "batch_size = 32\n",
        "feature_extractor = AutoFeatureExtractor.from_pretrained(model_checkpoint)\n",
        "feature_extractor"
      ]
    },
    {
      "cell_type": "code",
      "execution_count": 99,
      "metadata": {
        "id": "GusHscy334HP"
      },
      "outputs": [],
      "source": [
        "def preprocess_function(examples):\n",
        "    audio_arrays = [x[\"array\"] for x in examples[\"audio\"]]\n",
        "    inputs = feature_extractor(\n",
        "        audio_arrays, \n",
        "        sampling_rate=feature_extractor.sampling_rate, \n",
        "        max_length=int(feature_extractor.sampling_rate * max_duration), \n",
        "        truncation=True, \n",
        "    )\n",
        "    return inputs"
      ]
    },
    {
      "cell_type": "code",
      "execution_count": 100,
      "metadata": {
        "colab": {
          "base_uri": "https://localhost:8080/"
        },
        "id": "7NN5RZGS34DI",
        "outputId": "08f3a7a7-bbb5-4b77-fa84-07c4f4b7f341"
      },
      "outputs": [
        {
          "name": "stderr",
          "output_type": "stream",
          "text": [
            "/usr/local/lib/python3.7/dist-packages/transformers/feature_extraction_utils.py:168: VisibleDeprecationWarning: Creating an ndarray from ragged nested sequences (which is a list-or-tuple of lists-or-tuples-or ndarrays with different lengths or shapes) is deprecated. If you meant to do this, you must specify 'dtype=object' when creating the ndarray.\n",
            "  tensor = as_tensor(value)\n"
          ]
        },
        {
          "data": {
            "text/plain": [
              "{'input_values': [array([-3.3174595e-04, -1.2214939e-03, -5.0246180e-03, ...,\n",
              "       -6.6962605e-03, -5.9453174e-02, -3.8864637e-05], dtype=float32), array([-4.6076626e-02, -8.0406994e-02, -7.4147314e-02, ...,\n",
              "       -4.9441382e-02, -4.7110617e-02, -7.3776995e-05], dtype=float32), array([-0.00071336, -0.00459215, -0.00442695, ..., -0.01240169,\n",
              "       -0.0024419 ,  0.00096849], dtype=float32), array([-1.0314876e-03,  2.7702912e-05,  7.5889082e-04, ...,\n",
              "       -2.6096432e-02, -2.1230232e-02, -3.6365869e-05], dtype=float32), array([ 0.00704305,  0.04137399,  0.07761089, ..., -0.11417346,\n",
              "       -0.07525888,  0.00263164], dtype=float32)]}"
            ]
          },
          "execution_count": 100,
          "metadata": {},
          "output_type": "execute_result"
        }
      ],
      "source": [
        "preprocess_function(dataset['train'][:5])"
      ]
    },
    {
      "cell_type": "code",
      "execution_count": 101,
      "metadata": {
        "colab": {
          "base_uri": "https://localhost:8080/",
          "height": 322,
          "referenced_widgets": [
            "5ed8c46ac6d144579dbe4a915d91f60c",
            "fd83df43e1fc406ba3fb2a21b8c5bd7e",
            "9ac9b88f7fac4880843c7b615d97f48f",
            "ba3af337654d44208388f0b8b9cdadb7",
            "284864de76de439e8b00c3657f50ffbb",
            "618e9a677d1f497facbaaaafcaedba79",
            "f10f0a9fca6c48fdb4b21c5bc99c52b7",
            "0e16f96373ad48a882007e289488bcc9",
            "f7d272e01666403ea525e305cf7acb6f",
            "389a1170172f41da9b948d124db32d56",
            "b68875a18c7549898000135123ffb44a",
            "c6507529d4734b8d98ddeaea69ad6df5",
            "d47a10640b15479e80ce895e73b83ef9",
            "922b26e96d1e4eeebe0e443f87bd81cb",
            "faa14aeba4c54ed2bfd3cabf79513d34",
            "c42ec6e67bfe4d4998ce6fbd1fdf5776",
            "0accbad77429496f8522b536ce04f244",
            "7503e7d482c646eda187bd3f45b7f676",
            "8f00287284764d7da8b3a81c8eedc4f6",
            "7838a2aafebc4fbfa350e0014fd69869",
            "02574b4827664e48806c3d4f91c2dcb6",
            "aa11714d89534d3cacb9a7c9e8d47f7f"
          ]
        },
        "id": "hbDrJR6O33_u",
        "outputId": "f1cafcf1-d762-41e7-95b7-e5866ddc5299"
      },
      "outputs": [
        {
          "data": {
            "application/vnd.jupyter.widget-view+json": {
              "model_id": "5ed8c46ac6d144579dbe4a915d91f60c",
              "version_major": 2,
              "version_minor": 0
            },
            "text/plain": [
              "  0%|          | 0/2 [00:00<?, ?ba/s]"
            ]
          },
          "metadata": {},
          "output_type": "display_data"
        },
        {
          "name": "stderr",
          "output_type": "stream",
          "text": [
            "/usr/local/lib/python3.7/dist-packages/transformers/feature_extraction_utils.py:168: VisibleDeprecationWarning: Creating an ndarray from ragged nested sequences (which is a list-or-tuple of lists-or-tuples-or ndarrays with different lengths or shapes) is deprecated. If you meant to do this, you must specify 'dtype=object' when creating the ndarray.\n",
            "  tensor = as_tensor(value)\n"
          ]
        },
        {
          "data": {
            "application/vnd.jupyter.widget-view+json": {
              "model_id": "c6507529d4734b8d98ddeaea69ad6df5",
              "version_major": 2,
              "version_minor": 0
            },
            "text/plain": [
              "  0%|          | 0/1 [00:00<?, ?ba/s]"
            ]
          },
          "metadata": {},
          "output_type": "display_data"
        },
        {
          "data": {
            "text/plain": [
              "DatasetDict({\n",
              "    train: Dataset({\n",
              "        features: ['input_values', 'label'],\n",
              "        num_rows: 1552\n",
              "    })\n",
              "    test: Dataset({\n",
              "        features: ['input_values', 'label'],\n",
              "        num_rows: 388\n",
              "    })\n",
              "})"
            ]
          },
          "execution_count": 101,
          "metadata": {},
          "output_type": "execute_result"
        }
      ],
      "source": [
        "encoded_dataset = dataset.map(preprocess_function, remove_columns=[\"audio\", \"file\"], batched=True)\n",
        "encoded_dataset"
      ]
    },
    {
      "cell_type": "markdown",
      "metadata": {
        "id": "BeM7NWOX1ExP"
      },
      "source": [
        "# Training/Finetuning"
      ]
    },
    {
      "cell_type": "code",
      "execution_count": 102,
      "metadata": {
        "colab": {
          "base_uri": "https://localhost:8080/",
          "height": 1000,
          "referenced_widgets": [
            "88f2a11b35ce4d819833317e5df5155f",
            "fe3f6f655e0148fba562defdfcd2b6db",
            "18d48e4aab24494cb2f0a87380a3ba81",
            "631c45a3c4de4fba8d15dccded47b4b0",
            "ac2f463f2ae24cd19b0c3e3dbac7ea70",
            "8539e25aaa664bea86f702bcccbf306d",
            "91fc60e418f04c24970bd012d9ea7219",
            "9ef2bf04bc1f460b935adf4e6e40ffc5",
            "72c8f1fcfd344c23a73b328db127f29a",
            "3fc5bd2c325146a2bba8d48bb99d2146",
            "6012c48b674348979ef01d6bc35b867c"
          ]
        },
        "id": "fHKU8Z-w1GkK",
        "outputId": "ea03cc51-6210-4d16-e77a-f001791b288d"
      },
      "outputs": [
        {
          "name": "stderr",
          "output_type": "stream",
          "text": [
            "loading configuration file https://huggingface.co/facebook/wav2vec2-base/resolve/main/config.json from cache at /root/.cache/huggingface/transformers/c7746642f045322fd01afa31271dd490e677ea11999e68660a92619ec7c892b4.ce1f96bfaf3d7475cb8187b9668c7f19437ade45fb9ceb78d2b06a2cec198015\n",
            "/usr/local/lib/python3.7/dist-packages/transformers/configuration_utils.py:364: UserWarning: Passing `gradient_checkpointing` to a config initialization is deprecated and will be removed in v5 Transformers. Using `model.gradient_checkpointing_enable()` instead, or if you are using the `Trainer` API, pass `gradient_checkpointing=True` in your `TrainingArguments`.\n",
            "  \"Passing `gradient_checkpointing` to a config initialization is deprecated and will be removed in v5 \"\n",
            "Model config Wav2Vec2Config {\n",
            "  \"_name_or_path\": \"facebook/wav2vec2-base\",\n",
            "  \"activation_dropout\": 0.0,\n",
            "  \"adapter_kernel_size\": 3,\n",
            "  \"adapter_stride\": 2,\n",
            "  \"add_adapter\": false,\n",
            "  \"apply_spec_augment\": true,\n",
            "  \"architectures\": [\n",
            "    \"Wav2Vec2ForPreTraining\"\n",
            "  ],\n",
            "  \"attention_dropout\": 0.1,\n",
            "  \"bos_token_id\": 1,\n",
            "  \"classifier_proj_size\": 256,\n",
            "  \"codevector_dim\": 256,\n",
            "  \"contrastive_logits_temperature\": 0.1,\n",
            "  \"conv_bias\": false,\n",
            "  \"conv_dim\": [\n",
            "    512,\n",
            "    512,\n",
            "    512,\n",
            "    512,\n",
            "    512,\n",
            "    512,\n",
            "    512\n",
            "  ],\n",
            "  \"conv_kernel\": [\n",
            "    10,\n",
            "    3,\n",
            "    3,\n",
            "    3,\n",
            "    3,\n",
            "    2,\n",
            "    2\n",
            "  ],\n",
            "  \"conv_stride\": [\n",
            "    5,\n",
            "    2,\n",
            "    2,\n",
            "    2,\n",
            "    2,\n",
            "    2,\n",
            "    2\n",
            "  ],\n",
            "  \"ctc_loss_reduction\": \"sum\",\n",
            "  \"ctc_zero_infinity\": false,\n",
            "  \"diversity_loss_weight\": 0.1,\n",
            "  \"do_stable_layer_norm\": false,\n",
            "  \"eos_token_id\": 2,\n",
            "  \"feat_extract_activation\": \"gelu\",\n",
            "  \"feat_extract_norm\": \"group\",\n",
            "  \"feat_proj_dropout\": 0.1,\n",
            "  \"feat_quantizer_dropout\": 0.0,\n",
            "  \"final_dropout\": 0.0,\n",
            "  \"freeze_feat_extract_train\": true,\n",
            "  \"gradient_checkpointing\": true,\n",
            "  \"hidden_act\": \"gelu\",\n",
            "  \"hidden_dropout\": 0.1,\n",
            "  \"hidden_size\": 768,\n",
            "  \"id2label\": {\n",
            "    \"0\": \"0\",\n",
            "    \"1\": \"1\",\n",
            "    \"10\": \"_silence_\",\n",
            "    \"11\": \"_unknown_\",\n",
            "    \"2\": \"2\",\n",
            "    \"3\": \"3\",\n",
            "    \"4\": \"4\",\n",
            "    \"5\": \"5\",\n",
            "    \"6\": \"6\",\n",
            "    \"7\": \"7\",\n",
            "    \"8\": \"8\",\n",
            "    \"9\": \"9\"\n",
            "  },\n",
            "  \"initializer_range\": 0.02,\n",
            "  \"intermediate_size\": 3072,\n",
            "  \"label2id\": {\n",
            "    \"0\": \"0\",\n",
            "    \"1\": \"1\",\n",
            "    \"2\": \"2\",\n",
            "    \"3\": \"3\",\n",
            "    \"4\": \"4\",\n",
            "    \"5\": \"5\",\n",
            "    \"6\": \"6\",\n",
            "    \"7\": \"7\",\n",
            "    \"8\": \"8\",\n",
            "    \"9\": \"9\",\n",
            "    \"_silence_\": \"10\",\n",
            "    \"_unknown_\": \"11\"\n",
            "  },\n",
            "  \"layer_norm_eps\": 1e-05,\n",
            "  \"layerdrop\": 0.0,\n",
            "  \"mask_channel_length\": 10,\n",
            "  \"mask_channel_min_space\": 1,\n",
            "  \"mask_channel_other\": 0.0,\n",
            "  \"mask_channel_prob\": 0.0,\n",
            "  \"mask_channel_selection\": \"static\",\n",
            "  \"mask_feature_length\": 10,\n",
            "  \"mask_feature_min_masks\": 0,\n",
            "  \"mask_feature_prob\": 0.0,\n",
            "  \"mask_time_length\": 10,\n",
            "  \"mask_time_min_masks\": 2,\n",
            "  \"mask_time_min_space\": 1,\n",
            "  \"mask_time_other\": 0.0,\n",
            "  \"mask_time_prob\": 0.05,\n",
            "  \"mask_time_selection\": \"static\",\n",
            "  \"model_type\": \"wav2vec2\",\n",
            "  \"no_mask_channel_overlap\": false,\n",
            "  \"no_mask_time_overlap\": false,\n",
            "  \"num_adapter_layers\": 3,\n",
            "  \"num_attention_heads\": 12,\n",
            "  \"num_codevector_groups\": 2,\n",
            "  \"num_codevectors_per_group\": 320,\n",
            "  \"num_conv_pos_embedding_groups\": 16,\n",
            "  \"num_conv_pos_embeddings\": 128,\n",
            "  \"num_feat_extract_layers\": 7,\n",
            "  \"num_hidden_layers\": 12,\n",
            "  \"num_negatives\": 100,\n",
            "  \"output_hidden_size\": 768,\n",
            "  \"pad_token_id\": 0,\n",
            "  \"proj_codevector_dim\": 256,\n",
            "  \"tdnn_dilation\": [\n",
            "    1,\n",
            "    2,\n",
            "    3,\n",
            "    1,\n",
            "    1\n",
            "  ],\n",
            "  \"tdnn_dim\": [\n",
            "    512,\n",
            "    512,\n",
            "    512,\n",
            "    512,\n",
            "    1500\n",
            "  ],\n",
            "  \"tdnn_kernel\": [\n",
            "    5,\n",
            "    3,\n",
            "    3,\n",
            "    1,\n",
            "    1\n",
            "  ],\n",
            "  \"transformers_version\": \"4.19.0\",\n",
            "  \"use_weighted_layer_sum\": false,\n",
            "  \"vocab_size\": 32,\n",
            "  \"xvector_output_dim\": 512\n",
            "}\n",
            "\n",
            "https://huggingface.co/facebook/wav2vec2-base/resolve/main/pytorch_model.bin not found in cache or force_download set to True, downloading to /root/.cache/huggingface/transformers/tmpty33l87k\n"
          ]
        },
        {
          "data": {
            "application/vnd.jupyter.widget-view+json": {
              "model_id": "88f2a11b35ce4d819833317e5df5155f",
              "version_major": 2,
              "version_minor": 0
            },
            "text/plain": [
              "Downloading:   0%|          | 0.00/363M [00:00<?, ?B/s]"
            ]
          },
          "metadata": {},
          "output_type": "display_data"
        },
        {
          "name": "stderr",
          "output_type": "stream",
          "text": [
            "storing https://huggingface.co/facebook/wav2vec2-base/resolve/main/pytorch_model.bin in cache at /root/.cache/huggingface/transformers/ef45231897ce572a660ebc5a63d3702f1a6041c4c5fb78cbec330708531939b3.fcae05302a685f7904c551c8ea571e8bc2a2c4a1777ea81ad66e47f7883a650a\n",
            "creating metadata file for /root/.cache/huggingface/transformers/ef45231897ce572a660ebc5a63d3702f1a6041c4c5fb78cbec330708531939b3.fcae05302a685f7904c551c8ea571e8bc2a2c4a1777ea81ad66e47f7883a650a\n",
            "loading weights file https://huggingface.co/facebook/wav2vec2-base/resolve/main/pytorch_model.bin from cache at /root/.cache/huggingface/transformers/ef45231897ce572a660ebc5a63d3702f1a6041c4c5fb78cbec330708531939b3.fcae05302a685f7904c551c8ea571e8bc2a2c4a1777ea81ad66e47f7883a650a\n",
            "Some weights of the model checkpoint at facebook/wav2vec2-base were not used when initializing Wav2Vec2ForSequenceClassification: ['quantizer.codevectors', 'project_q.bias', 'project_hid.bias', 'quantizer.weight_proj.weight', 'quantizer.weight_proj.bias', 'project_hid.weight', 'project_q.weight']\n",
            "- This IS expected if you are initializing Wav2Vec2ForSequenceClassification from the checkpoint of a model trained on another task or with another architecture (e.g. initializing a BertForSequenceClassification model from a BertForPreTraining model).\n",
            "- This IS NOT expected if you are initializing Wav2Vec2ForSequenceClassification from the checkpoint of a model that you expect to be exactly identical (initializing a BertForSequenceClassification model from a BertForSequenceClassification model).\n",
            "Some weights of Wav2Vec2ForSequenceClassification were not initialized from the model checkpoint at facebook/wav2vec2-base and are newly initialized: ['classifier.weight', 'projector.bias', 'classifier.bias', 'projector.weight']\n",
            "You should probably TRAIN this model on a down-stream task to be able to use it for predictions and inference.\n"
          ]
        }
      ],
      "source": [
        "from transformers import AutoModelForAudioClassification, TrainingArguments, Trainer\n",
        "\n",
        "num_labels = len(id2label)\n",
        "model = AutoModelForAudioClassification.from_pretrained(\n",
        "    model_checkpoint, \n",
        "    num_labels=num_labels,\n",
        "    label2id=label2id,\n",
        "    id2label=id2label,\n",
        ")"
      ]
    },
    {
      "cell_type": "code",
      "execution_count": 110,
      "metadata": {
        "colab": {
          "base_uri": "https://localhost:8080/"
        },
        "id": "CLWca8vL4YqH",
        "outputId": "bf6d7ad9-a6d5-4f87-f3fb-dbdc104f3736"
      },
      "outputs": [
        {
          "name": "stderr",
          "output_type": "stream",
          "text": [
            "PyTorch: setting up devices\n",
            "The default value for the training argument `--report_to` will change in v5 (from all installed integrations to none). In v5, you will need to use `--report_to all` to get the same behavior as now. You should start updating your code and make this info disappear :-).\n"
          ]
        }
      ],
      "source": [
        "model_name = model_checkpoint.split(\"/\")[-1]\n",
        "\n",
        "args = TrainingArguments(\n",
        "    f\"{model_name}-finetuned-manthan-gujarati-digits\",\n",
        "    evaluation_strategy = \"epoch\",\n",
        "    save_strategy = \"epoch\",\n",
        "    learning_rate=3e-5,\n",
        "    per_device_train_batch_size=batch_size,\n",
        "    gradient_accumulation_steps=4,\n",
        "    per_device_eval_batch_size=batch_size,\n",
        "    num_train_epochs=10,\n",
        "    warmup_ratio=0.1,\n",
        "    logging_steps=10,\n",
        "    load_best_model_at_end=True,\n",
        "    metric_for_best_model=\"accuracy\",\n",
        "    push_to_hub=False,\n",
        ")"
      ]
    },
    {
      "cell_type": "code",
      "execution_count": 111,
      "metadata": {
        "id": "j-CMzZ8J4avn"
      },
      "outputs": [],
      "source": [
        "import numpy as np\n",
        "\n",
        "def compute_metrics(eval_pred):\n",
        "    \"\"\"Computes accuracy on a batch of predictions\"\"\"\n",
        "    predictions = np.argmax(eval_pred.predictions, axis=1)\n",
        "    return metric.compute(predictions=predictions, references=eval_pred.label_ids)\n"
      ]
    },
    {
      "cell_type": "code",
      "execution_count": 116,
      "metadata": {
        "id": "ND7ttCXgoA5z"
      },
      "outputs": [],
      "source": []
    },
    {
      "cell_type": "code",
      "execution_count": 113,
      "metadata": {
        "colab": {
          "base_uri": "https://localhost:8080/"
        },
        "id": "TilZAqiD4cvG",
        "outputId": "06273aa7-50f8-4390-8d66-cc106ff467cb"
      },
      "outputs": [
        {
          "name": "stderr",
          "output_type": "stream",
          "text": [
            "Cloning https://huggingface.co/manthan40/wav2vec2-base-finetuned-manthan-gujarati-digits into local empty directory.\n"
          ]
        }
      ],
      "source": [
        "trainer = Trainer(\n",
        "    model,\n",
        "    args,\n",
        "    train_dataset=encoded_dataset[\"train\"],\n",
        "    eval_dataset=encoded_dataset[\"test\"],\n",
        "    tokenizer=feature_extractor,\n",
        "    compute_metrics=compute_metrics\n",
        ")"
      ]
    },
    {
      "cell_type": "code",
      "execution_count": 114,
      "metadata": {
        "colab": {
          "base_uri": "https://localhost:8080/",
          "height": 1000
        },
        "id": "45WR-aA64fm8",
        "outputId": "c24fc430-02e3-4ad9-a214-c520d089ad5a"
      },
      "outputs": [
        {
          "name": "stderr",
          "output_type": "stream",
          "text": [
            "/usr/local/lib/python3.7/dist-packages/transformers/optimization.py:309: FutureWarning: This implementation of AdamW is deprecated and will be removed in a future version. Use the PyTorch implementation torch.optim.AdamW instead, or set `no_deprecation_warning=True` to disable this warning\n",
            "  FutureWarning,\n",
            "***** Running training *****\n",
            "  Num examples = 1552\n",
            "  Num Epochs = 10\n",
            "  Instantaneous batch size per device = 32\n",
            "  Total train batch size (w. parallel, distributed & accumulation) = 128\n",
            "  Gradient Accumulation steps = 4\n",
            "  Total optimization steps = 120\n"
          ]
        },
        {
          "data": {
            "text/html": [
              "\n",
              "    <div>\n",
              "      \n",
              "      <progress value='120' max='120' style='width:300px; height:20px; vertical-align: middle;'></progress>\n",
              "      [120/120 05:24, Epoch 9/10]\n",
              "    </div>\n",
              "    <table border=\"1\" class=\"dataframe\">\n",
              "  <thead>\n",
              " <tr style=\"text-align: left;\">\n",
              "      <th>Epoch</th>\n",
              "      <th>Training Loss</th>\n",
              "      <th>Validation Loss</th>\n",
              "      <th>Accuracy</th>\n",
              "    </tr>\n",
              "  </thead>\n",
              "  <tbody>\n",
              "    <tr>\n",
              "      <td>0</td>\n",
              "      <td>1.339200</td>\n",
              "      <td>1.131465</td>\n",
              "      <td>0.966495</td>\n",
              "    </tr>\n",
              "    <tr>\n",
              "      <td>1</td>\n",
              "      <td>1.231900</td>\n",
              "      <td>0.948726</td>\n",
              "      <td>0.971649</td>\n",
              "    </tr>\n",
              "    <tr>\n",
              "      <td>2</td>\n",
              "      <td>1.082400</td>\n",
              "      <td>0.833811</td>\n",
              "      <td>0.981959</td>\n",
              "    </tr>\n",
              "    <tr>\n",
              "      <td>3</td>\n",
              "      <td>0.999500</td>\n",
              "      <td>0.753314</td>\n",
              "      <td>0.984536</td>\n",
              "    </tr>\n",
              "    <tr>\n",
              "      <td>4</td>\n",
              "      <td>0.817500</td>\n",
              "      <td>0.675887</td>\n",
              "      <td>0.992268</td>\n",
              "    </tr>\n",
              "    <tr>\n",
              "      <td>5</td>\n",
              "      <td>0.801500</td>\n",
              "      <td>0.642500</td>\n",
              "      <td>0.984536</td>\n",
              "    </tr>\n",
              "    <tr>\n",
              "      <td>6</td>\n",
              "      <td>0.741700</td>\n",
              "      <td>0.604755</td>\n",
              "      <td>0.987113</td>\n",
              "    </tr>\n",
              "    <tr>\n",
              "      <td>7</td>\n",
              "      <td>0.718100</td>\n",
              "      <td>0.584964</td>\n",
              "      <td>0.992268</td>\n",
              "    </tr>\n",
              "    <tr>\n",
              "      <td>8</td>\n",
              "      <td>0.690700</td>\n",
              "      <td>0.568710</td>\n",
              "      <td>0.989691</td>\n",
              "    </tr>\n",
              "    <tr>\n",
              "      <td>9</td>\n",
              "      <td>0.651100</td>\n",
              "      <td>0.561295</td>\n",
              "      <td>0.992268</td>\n",
              "    </tr>\n",
              "  </tbody>\n",
              "</table><p>"
            ],
            "text/plain": [
              "<IPython.core.display.HTML object>"
            ]
          },
          "metadata": {},
          "output_type": "display_data"
        },
        {
          "name": "stderr",
          "output_type": "stream",
          "text": [
            "***** Running Evaluation *****\n",
            "  Num examples = 388\n",
            "  Batch size = 32\n",
            "Saving model checkpoint to wav2vec2-base-finetuned-manthan-gujarati-digits/checkpoint-12\n",
            "Configuration saved in wav2vec2-base-finetuned-manthan-gujarati-digits/checkpoint-12/config.json\n",
            "Model weights saved in wav2vec2-base-finetuned-manthan-gujarati-digits/checkpoint-12/pytorch_model.bin\n",
            "Feature extractor saved in wav2vec2-base-finetuned-manthan-gujarati-digits/checkpoint-12/preprocessor_config.json\n",
            "Feature extractor saved in wav2vec2-base-finetuned-manthan-gujarati-digits/preprocessor_config.json\n",
            "***** Running Evaluation *****\n",
            "  Num examples = 388\n",
            "  Batch size = 32\n",
            "Saving model checkpoint to wav2vec2-base-finetuned-manthan-gujarati-digits/checkpoint-24\n",
            "Configuration saved in wav2vec2-base-finetuned-manthan-gujarati-digits/checkpoint-24/config.json\n",
            "Model weights saved in wav2vec2-base-finetuned-manthan-gujarati-digits/checkpoint-24/pytorch_model.bin\n",
            "Feature extractor saved in wav2vec2-base-finetuned-manthan-gujarati-digits/checkpoint-24/preprocessor_config.json\n",
            "***** Running Evaluation *****\n",
            "  Num examples = 388\n",
            "  Batch size = 32\n",
            "Saving model checkpoint to wav2vec2-base-finetuned-manthan-gujarati-digits/checkpoint-36\n",
            "Configuration saved in wav2vec2-base-finetuned-manthan-gujarati-digits/checkpoint-36/config.json\n",
            "Model weights saved in wav2vec2-base-finetuned-manthan-gujarati-digits/checkpoint-36/pytorch_model.bin\n",
            "Feature extractor saved in wav2vec2-base-finetuned-manthan-gujarati-digits/checkpoint-36/preprocessor_config.json\n",
            "***** Running Evaluation *****\n",
            "  Num examples = 388\n",
            "  Batch size = 32\n",
            "Saving model checkpoint to wav2vec2-base-finetuned-manthan-gujarati-digits/checkpoint-48\n",
            "Configuration saved in wav2vec2-base-finetuned-manthan-gujarati-digits/checkpoint-48/config.json\n",
            "Model weights saved in wav2vec2-base-finetuned-manthan-gujarati-digits/checkpoint-48/pytorch_model.bin\n",
            "Feature extractor saved in wav2vec2-base-finetuned-manthan-gujarati-digits/checkpoint-48/preprocessor_config.json\n",
            "***** Running Evaluation *****\n",
            "  Num examples = 388\n",
            "  Batch size = 32\n",
            "Saving model checkpoint to wav2vec2-base-finetuned-manthan-gujarati-digits/checkpoint-60\n",
            "Configuration saved in wav2vec2-base-finetuned-manthan-gujarati-digits/checkpoint-60/config.json\n",
            "Model weights saved in wav2vec2-base-finetuned-manthan-gujarati-digits/checkpoint-60/pytorch_model.bin\n",
            "Feature extractor saved in wav2vec2-base-finetuned-manthan-gujarati-digits/checkpoint-60/preprocessor_config.json\n",
            "***** Running Evaluation *****\n",
            "  Num examples = 388\n",
            "  Batch size = 32\n",
            "Saving model checkpoint to wav2vec2-base-finetuned-manthan-gujarati-digits/checkpoint-72\n",
            "Configuration saved in wav2vec2-base-finetuned-manthan-gujarati-digits/checkpoint-72/config.json\n",
            "Model weights saved in wav2vec2-base-finetuned-manthan-gujarati-digits/checkpoint-72/pytorch_model.bin\n",
            "Feature extractor saved in wav2vec2-base-finetuned-manthan-gujarati-digits/checkpoint-72/preprocessor_config.json\n",
            "***** Running Evaluation *****\n",
            "  Num examples = 388\n",
            "  Batch size = 32\n",
            "Saving model checkpoint to wav2vec2-base-finetuned-manthan-gujarati-digits/checkpoint-84\n",
            "Configuration saved in wav2vec2-base-finetuned-manthan-gujarati-digits/checkpoint-84/config.json\n",
            "Model weights saved in wav2vec2-base-finetuned-manthan-gujarati-digits/checkpoint-84/pytorch_model.bin\n",
            "Feature extractor saved in wav2vec2-base-finetuned-manthan-gujarati-digits/checkpoint-84/preprocessor_config.json\n",
            "***** Running Evaluation *****\n",
            "  Num examples = 388\n",
            "  Batch size = 32\n",
            "Saving model checkpoint to wav2vec2-base-finetuned-manthan-gujarati-digits/checkpoint-96\n",
            "Configuration saved in wav2vec2-base-finetuned-manthan-gujarati-digits/checkpoint-96/config.json\n",
            "Model weights saved in wav2vec2-base-finetuned-manthan-gujarati-digits/checkpoint-96/pytorch_model.bin\n",
            "Feature extractor saved in wav2vec2-base-finetuned-manthan-gujarati-digits/checkpoint-96/preprocessor_config.json\n",
            "***** Running Evaluation *****\n",
            "  Num examples = 388\n",
            "  Batch size = 32\n",
            "Saving model checkpoint to wav2vec2-base-finetuned-manthan-gujarati-digits/checkpoint-108\n",
            "Configuration saved in wav2vec2-base-finetuned-manthan-gujarati-digits/checkpoint-108/config.json\n",
            "Model weights saved in wav2vec2-base-finetuned-manthan-gujarati-digits/checkpoint-108/pytorch_model.bin\n",
            "Feature extractor saved in wav2vec2-base-finetuned-manthan-gujarati-digits/checkpoint-108/preprocessor_config.json\n",
            "***** Running Evaluation *****\n",
            "  Num examples = 388\n",
            "  Batch size = 32\n",
            "Saving model checkpoint to wav2vec2-base-finetuned-manthan-gujarati-digits/checkpoint-120\n",
            "Configuration saved in wav2vec2-base-finetuned-manthan-gujarati-digits/checkpoint-120/config.json\n",
            "Model weights saved in wav2vec2-base-finetuned-manthan-gujarati-digits/checkpoint-120/pytorch_model.bin\n",
            "Feature extractor saved in wav2vec2-base-finetuned-manthan-gujarati-digits/checkpoint-120/preprocessor_config.json\n",
            "\n",
            "\n",
            "Training completed. Do not forget to share your model on huggingface.co/models =)\n",
            "\n",
            "\n",
            "Loading best model from wav2vec2-base-finetuned-manthan-gujarati-digits/checkpoint-60 (score: 0.9922680412371134).\n"
          ]
        },
        {
          "data": {
            "text/plain": [
              "TrainOutput(global_step=120, training_loss=0.8881256699562072, metrics={'train_runtime': 326.9084, 'train_samples_per_second': 47.475, 'train_steps_per_second': 0.367, 'total_flos': 1.3861431455726208e+17, 'train_loss': 0.8881256699562072, 'epoch': 9.98})"
            ]
          },
          "execution_count": 114,
          "metadata": {},
          "output_type": "execute_result"
        }
      ],
      "source": [
        "trainer.train()"
      ]
    },
    {
      "cell_type": "code",
      "execution_count": 115,
      "metadata": {
        "colab": {
          "base_uri": "https://localhost:8080/",
          "height": 432,
          "referenced_widgets": [
            "ac92a21c5499489fab69509e2fc6ffce",
            "d4d12676892b4d4dbae8428f2f19811b",
            "7e05c8dcbdeb4eaba60c7052f440877d",
            "7ca8194424dc4255ae7727fa8e405ac3",
            "73058f58cad34387874de3b96b69fe56",
            "27f8084915d24651a60fa955c205024a",
            "ac59de33ebe44bfcb7208981a84b2d11",
            "8619f82d79eb486f888a1b58812cce2e",
            "e23cd4c9e063428481b865e322383351",
            "aeef08b162f24e7ca6e553359a97e2d8",
            "2d176c5f704e4955bd819b50f5f1b558",
            "aebe5d35d986446f884704fa0c5585b7",
            "a01a00ed64954023ad5d04328552ee76",
            "f0f5fd2c4c2d4c99ad1691175bdd374c",
            "c3151133ae5e4f9c8c69e80cfa6bfa82",
            "b5df395f6b99491c869606be7f17eaed",
            "13f6384c14084daebb3ff9a94623295e",
            "c0b5931d5c7541e9bd726b8a64d0e2db",
            "ffd01903982c42f9a04123b6e1c2d983",
            "4c72df9c41764989a4ca09aec76fa8ab",
            "8a568a27e9984ed89b3885e03aedd923",
            "f846f60eef0443789749fcadb515165a"
          ]
        },
        "id": "ncR9lD2P4lP9",
        "outputId": "c0bc57be-0edf-4286-a61e-b6af5f47ec53"
      },
      "outputs": [
        {
          "name": "stderr",
          "output_type": "stream",
          "text": [
            "Saving model checkpoint to wav2vec2-base-finetuned-manthan-gujarati-digits\n",
            "Configuration saved in wav2vec2-base-finetuned-manthan-gujarati-digits/config.json\n",
            "Model weights saved in wav2vec2-base-finetuned-manthan-gujarati-digits/pytorch_model.bin\n",
            "Feature extractor saved in wav2vec2-base-finetuned-manthan-gujarati-digits/preprocessor_config.json\n",
            "Several commits (2) will be pushed upstream.\n",
            "The progress bars may be unreliable.\n"
          ]
        },
        {
          "data": {
            "application/vnd.jupyter.widget-view+json": {
              "model_id": "ac92a21c5499489fab69509e2fc6ffce",
              "version_major": 2,
              "version_minor": 0
            },
            "text/plain": [
              "Upload file pytorch_model.bin:   0%|          | 3.34k/361M [00:00<?, ?B/s]"
            ]
          },
          "metadata": {},
          "output_type": "display_data"
        },
        {
          "data": {
            "application/vnd.jupyter.widget-view+json": {
              "model_id": "aebe5d35d986446f884704fa0c5585b7",
              "version_major": 2,
              "version_minor": 0
            },
            "text/plain": [
              "Upload file runs/May13_01-47-25_1a8fbb25ce45/events.out.tfevents.1652406460.1a8fbb25ce45.81.5:  31%|###       …"
            ]
          },
          "metadata": {},
          "output_type": "display_data"
        },
        {
          "name": "stderr",
          "output_type": "stream",
          "text": [
            "remote: Enforcing permissions...        \n",
            "remote: Allowed refs: all        \n",
            "To https://huggingface.co/manthan40/wav2vec2-base-finetuned-manthan-gujarati-digits\n",
            "   0b38f29..beb435e  main -> main\n",
            "\n",
            "Dropping the following result as it does not have all the necessary fields:\n",
            "{'dataset': {'name': 'new_dataset', 'type': 'new_dataset', 'args': 'train'}, 'metrics': [{'name': 'Accuracy', 'type': 'accuracy', 'value': 0.9922680412371134}]}\n",
            "remote: Enforcing permissions...        \n",
            "remote: Allowed refs: all        \n",
            "To https://huggingface.co/manthan40/wav2vec2-base-finetuned-manthan-gujarati-digits\n",
            "   beb435e..cf60c22  main -> main\n",
            "\n"
          ]
        },
        {
          "data": {
            "application/vnd.google.colaboratory.intrinsic+json": {
              "type": "string"
            },
            "text/plain": [
              "'https://huggingface.co/manthan40/wav2vec2-base-finetuned-manthan-gujarati-digits/commit/beb435ef19f0155bdba4a42e903da5765e329086'"
            ]
          },
          "execution_count": 115,
          "metadata": {},
          "output_type": "execute_result"
        }
      ],
      "source": [
        "trainer.push_to_hub()"
      ]
    },
    {
      "cell_type": "code",
      "execution_count": 109,
      "metadata": {
        "colab": {
          "base_uri": "https://localhost:8080/",
          "height": 203
        },
        "id": "E0SP5WH5OVgx",
        "outputId": "29adf7d5-465d-41d6-8187-e7a235257809"
      },
      "outputs": [
        {
          "name": "stderr",
          "output_type": "stream",
          "text": [
            "***** Running Evaluation *****\n",
            "  Num examples = 388\n",
            "  Batch size = 32\n"
          ]
        },
        {
          "data": {
            "text/html": [
              "\n",
              "    <div>\n",
              "      \n",
              "      <progress value='13' max='13' style='width:300px; height:20px; vertical-align: middle;'></progress>\n",
              "      [13/13 00:02]\n",
              "    </div>\n",
              "    "
            ],
            "text/plain": [
              "<IPython.core.display.HTML object>"
            ]
          },
          "metadata": {},
          "output_type": "display_data"
        },
        {
          "data": {
            "text/plain": [
              "{'epoch': 9.98,\n",
              " 'eval_accuracy': 0.9742268041237113,\n",
              " 'eval_loss': 1.2405576705932617,\n",
              " 'eval_runtime': 3.1446,\n",
              " 'eval_samples_per_second': 123.384,\n",
              " 'eval_steps_per_second': 4.134}"
            ]
          },
          "execution_count": 109,
          "metadata": {},
          "output_type": "execute_result"
        }
      ],
      "source": [
        "trainer.evaluate()"
      ]
    },
    {
      "cell_type": "code",
      "execution_count": 109,
      "metadata": {
        "id": "MEoMHe-JFTgM"
      },
      "outputs": [],
      "source": []
    }
  ],
  "metadata": {
    "accelerator": "GPU",
    "colab": {
      "authorship_tag": "ABX9TyMBvKZg1JSo5lTnk0SzDtTA",
      "collapsed_sections": [],
      "machine_shape": "hm",
      "name": "MultilingualAudioClassification",
      "provenance": []
    },
    "kernelspec": {
      "display_name": "Python 3",
      "name": "python3"
    },
    "language_info": {
      "name": "python"
    },
    "widgets": {
      "application/vnd.jupyter.widget-state+json": {
        "02574b4827664e48806c3d4f91c2dcb6": {
          "model_module": "@jupyter-widgets/base",
          "model_module_version": "1.2.0",
          "model_name": "LayoutModel",
          "state": {
            "_model_module": "@jupyter-widgets/base",
            "_model_module_version": "1.2.0",
            "_model_name": "LayoutModel",
            "_view_count": null,
            "_view_module": "@jupyter-widgets/base",
            "_view_module_version": "1.2.0",
            "_view_name": "LayoutView",
            "align_content": null,
            "align_items": null,
            "align_self": null,
            "border": null,
            "bottom": null,
            "display": null,
            "flex": null,
            "flex_flow": null,
            "grid_area": null,
            "grid_auto_columns": null,
            "grid_auto_flow": null,
            "grid_auto_rows": null,
            "grid_column": null,
            "grid_gap": null,
            "grid_row": null,
            "grid_template_areas": null,
            "grid_template_columns": null,
            "grid_template_rows": null,
            "height": null,
            "justify_content": null,
            "justify_items": null,
            "left": null,
            "margin": null,
            "max_height": null,
            "max_width": null,
            "min_height": null,
            "min_width": null,
            "object_fit": null,
            "object_position": null,
            "order": null,
            "overflow": null,
            "overflow_x": null,
            "overflow_y": null,
            "padding": null,
            "right": null,
            "top": null,
            "visibility": null,
            "width": null
          }
        },
        "0997b21dc1254cf69cd9bc8337a810a3": {
          "model_module": "@jupyter-widgets/controls",
          "model_module_version": "1.5.0",
          "model_name": "DescriptionStyleModel",
          "state": {
            "_model_module": "@jupyter-widgets/controls",
            "_model_module_version": "1.5.0",
            "_model_name": "DescriptionStyleModel",
            "_view_count": null,
            "_view_module": "@jupyter-widgets/base",
            "_view_module_version": "1.2.0",
            "_view_name": "StyleView",
            "description_width": ""
          }
        },
        "0accbad77429496f8522b536ce04f244": {
          "model_module": "@jupyter-widgets/base",
          "model_module_version": "1.2.0",
          "model_name": "LayoutModel",
          "state": {
            "_model_module": "@jupyter-widgets/base",
            "_model_module_version": "1.2.0",
            "_model_name": "LayoutModel",
            "_view_count": null,
            "_view_module": "@jupyter-widgets/base",
            "_view_module_version": "1.2.0",
            "_view_name": "LayoutView",
            "align_content": null,
            "align_items": null,
            "align_self": null,
            "border": null,
            "bottom": null,
            "display": null,
            "flex": null,
            "flex_flow": null,
            "grid_area": null,
            "grid_auto_columns": null,
            "grid_auto_flow": null,
            "grid_auto_rows": null,
            "grid_column": null,
            "grid_gap": null,
            "grid_row": null,
            "grid_template_areas": null,
            "grid_template_columns": null,
            "grid_template_rows": null,
            "height": null,
            "justify_content": null,
            "justify_items": null,
            "left": null,
            "margin": null,
            "max_height": null,
            "max_width": null,
            "min_height": null,
            "min_width": null,
            "object_fit": null,
            "object_position": null,
            "order": null,
            "overflow": null,
            "overflow_x": null,
            "overflow_y": null,
            "padding": null,
            "right": null,
            "top": null,
            "visibility": null,
            "width": null
          }
        },
        "0e16f96373ad48a882007e289488bcc9": {
          "model_module": "@jupyter-widgets/base",
          "model_module_version": "1.2.0",
          "model_name": "LayoutModel",
          "state": {
            "_model_module": "@jupyter-widgets/base",
            "_model_module_version": "1.2.0",
            "_model_name": "LayoutModel",
            "_view_count": null,
            "_view_module": "@jupyter-widgets/base",
            "_view_module_version": "1.2.0",
            "_view_name": "LayoutView",
            "align_content": null,
            "align_items": null,
            "align_self": null,
            "border": null,
            "bottom": null,
            "display": null,
            "flex": null,
            "flex_flow": null,
            "grid_area": null,
            "grid_auto_columns": null,
            "grid_auto_flow": null,
            "grid_auto_rows": null,
            "grid_column": null,
            "grid_gap": null,
            "grid_row": null,
            "grid_template_areas": null,
            "grid_template_columns": null,
            "grid_template_rows": null,
            "height": null,
            "justify_content": null,
            "justify_items": null,
            "left": null,
            "margin": null,
            "max_height": null,
            "max_width": null,
            "min_height": null,
            "min_width": null,
            "object_fit": null,
            "object_position": null,
            "order": null,
            "overflow": null,
            "overflow_x": null,
            "overflow_y": null,
            "padding": null,
            "right": null,
            "top": null,
            "visibility": null,
            "width": null
          }
        },
        "1010e4d43c174484971674062a5ae061": {
          "model_module": "@jupyter-widgets/controls",
          "model_module_version": "1.5.0",
          "model_name": "DescriptionStyleModel",
          "state": {
            "_model_module": "@jupyter-widgets/controls",
            "_model_module_version": "1.5.0",
            "_model_name": "DescriptionStyleModel",
            "_view_count": null,
            "_view_module": "@jupyter-widgets/base",
            "_view_module_version": "1.2.0",
            "_view_name": "StyleView",
            "description_width": ""
          }
        },
        "13f6384c14084daebb3ff9a94623295e": {
          "model_module": "@jupyter-widgets/base",
          "model_module_version": "1.2.0",
          "model_name": "LayoutModel",
          "state": {
            "_model_module": "@jupyter-widgets/base",
            "_model_module_version": "1.2.0",
            "_model_name": "LayoutModel",
            "_view_count": null,
            "_view_module": "@jupyter-widgets/base",
            "_view_module_version": "1.2.0",
            "_view_name": "LayoutView",
            "align_content": null,
            "align_items": null,
            "align_self": null,
            "border": null,
            "bottom": null,
            "display": null,
            "flex": null,
            "flex_flow": null,
            "grid_area": null,
            "grid_auto_columns": null,
            "grid_auto_flow": null,
            "grid_auto_rows": null,
            "grid_column": null,
            "grid_gap": null,
            "grid_row": null,
            "grid_template_areas": null,
            "grid_template_columns": null,
            "grid_template_rows": null,
            "height": null,
            "justify_content": null,
            "justify_items": null,
            "left": null,
            "margin": null,
            "max_height": null,
            "max_width": null,
            "min_height": null,
            "min_width": null,
            "object_fit": null,
            "object_position": null,
            "order": null,
            "overflow": null,
            "overflow_x": null,
            "overflow_y": null,
            "padding": null,
            "right": null,
            "top": null,
            "visibility": null,
            "width": null
          }
        },
        "18d48e4aab24494cb2f0a87380a3ba81": {
          "model_module": "@jupyter-widgets/controls",
          "model_module_version": "1.5.0",
          "model_name": "FloatProgressModel",
          "state": {
            "_dom_classes": [],
            "_model_module": "@jupyter-widgets/controls",
            "_model_module_version": "1.5.0",
            "_model_name": "FloatProgressModel",
            "_view_count": null,
            "_view_module": "@jupyter-widgets/controls",
            "_view_module_version": "1.5.0",
            "_view_name": "ProgressView",
            "bar_style": "success",
            "description": "",
            "description_tooltip": null,
            "layout": "IPY_MODEL_9ef2bf04bc1f460b935adf4e6e40ffc5",
            "max": 380267417,
            "min": 0,
            "orientation": "horizontal",
            "style": "IPY_MODEL_72c8f1fcfd344c23a73b328db127f29a",
            "value": 380267417
          }
        },
        "190363dd40e141779410e0a96dc6e3fe": {
          "model_module": "@jupyter-widgets/controls",
          "model_module_version": "1.5.0",
          "model_name": "PasswordModel",
          "state": {
            "_dom_classes": [],
            "_model_module": "@jupyter-widgets/controls",
            "_model_module_version": "1.5.0",
            "_model_name": "PasswordModel",
            "_view_count": null,
            "_view_module": "@jupyter-widgets/controls",
            "_view_module_version": "1.5.0",
            "_view_name": "PasswordView",
            "continuous_update": true,
            "description": "Token:",
            "description_tooltip": null,
            "disabled": false,
            "layout": "IPY_MODEL_80531c00af1340a587031d7169c573c8",
            "placeholder": "​",
            "style": "IPY_MODEL_0997b21dc1254cf69cd9bc8337a810a3",
            "value": ""
          }
        },
        "23d9fc2964cf42c9a4b282926f281639": {
          "model_module": "@jupyter-widgets/controls",
          "model_module_version": "1.5.0",
          "model_name": "ButtonStyleModel",
          "state": {
            "_model_module": "@jupyter-widgets/controls",
            "_model_module_version": "1.5.0",
            "_model_name": "ButtonStyleModel",
            "_view_count": null,
            "_view_module": "@jupyter-widgets/base",
            "_view_module_version": "1.2.0",
            "_view_name": "StyleView",
            "button_color": null,
            "font_weight": ""
          }
        },
        "27f8084915d24651a60fa955c205024a": {
          "model_module": "@jupyter-widgets/base",
          "model_module_version": "1.2.0",
          "model_name": "LayoutModel",
          "state": {
            "_model_module": "@jupyter-widgets/base",
            "_model_module_version": "1.2.0",
            "_model_name": "LayoutModel",
            "_view_count": null,
            "_view_module": "@jupyter-widgets/base",
            "_view_module_version": "1.2.0",
            "_view_name": "LayoutView",
            "align_content": null,
            "align_items": null,
            "align_self": null,
            "border": null,
            "bottom": null,
            "display": null,
            "flex": null,
            "flex_flow": null,
            "grid_area": null,
            "grid_auto_columns": null,
            "grid_auto_flow": null,
            "grid_auto_rows": null,
            "grid_column": null,
            "grid_gap": null,
            "grid_row": null,
            "grid_template_areas": null,
            "grid_template_columns": null,
            "grid_template_rows": null,
            "height": null,
            "justify_content": null,
            "justify_items": null,
            "left": null,
            "margin": null,
            "max_height": null,
            "max_width": null,
            "min_height": null,
            "min_width": null,
            "object_fit": null,
            "object_position": null,
            "order": null,
            "overflow": null,
            "overflow_x": null,
            "overflow_y": null,
            "padding": null,
            "right": null,
            "top": null,
            "visibility": null,
            "width": null
          }
        },
        "284864de76de439e8b00c3657f50ffbb": {
          "model_module": "@jupyter-widgets/base",
          "model_module_version": "1.2.0",
          "model_name": "LayoutModel",
          "state": {
            "_model_module": "@jupyter-widgets/base",
            "_model_module_version": "1.2.0",
            "_model_name": "LayoutModel",
            "_view_count": null,
            "_view_module": "@jupyter-widgets/base",
            "_view_module_version": "1.2.0",
            "_view_name": "LayoutView",
            "align_content": null,
            "align_items": null,
            "align_self": null,
            "border": null,
            "bottom": null,
            "display": null,
            "flex": null,
            "flex_flow": null,
            "grid_area": null,
            "grid_auto_columns": null,
            "grid_auto_flow": null,
            "grid_auto_rows": null,
            "grid_column": null,
            "grid_gap": null,
            "grid_row": null,
            "grid_template_areas": null,
            "grid_template_columns": null,
            "grid_template_rows": null,
            "height": null,
            "justify_content": null,
            "justify_items": null,
            "left": null,
            "margin": null,
            "max_height": null,
            "max_width": null,
            "min_height": null,
            "min_width": null,
            "object_fit": null,
            "object_position": null,
            "order": null,
            "overflow": null,
            "overflow_x": null,
            "overflow_y": null,
            "padding": null,
            "right": null,
            "top": null,
            "visibility": null,
            "width": null
          }
        },
        "2d176c5f704e4955bd819b50f5f1b558": {
          "model_module": "@jupyter-widgets/controls",
          "model_module_version": "1.5.0",
          "model_name": "DescriptionStyleModel",
          "state": {
            "_model_module": "@jupyter-widgets/controls",
            "_model_module_version": "1.5.0",
            "_model_name": "DescriptionStyleModel",
            "_view_count": null,
            "_view_module": "@jupyter-widgets/base",
            "_view_module_version": "1.2.0",
            "_view_name": "StyleView",
            "description_width": ""
          }
        },
        "2fa8d5afcc0a4cb2ad5b0a7f8682c6b3": {
          "model_module": "@jupyter-widgets/controls",
          "model_module_version": "1.5.0",
          "model_name": "HTMLModel",
          "state": {
            "_dom_classes": [],
            "_model_module": "@jupyter-widgets/controls",
            "_model_module_version": "1.5.0",
            "_model_name": "HTMLModel",
            "_view_count": null,
            "_view_module": "@jupyter-widgets/controls",
            "_view_module_version": "1.5.0",
            "_view_name": "HTMLView",
            "description": "",
            "description_tooltip": null,
            "layout": "IPY_MODEL_b64b6306dacd45dfaeaead24ed3f2c44",
            "placeholder": "​",
            "style": "IPY_MODEL_c3c0c14f787b4baeb7ca98e8921d04e2",
            "value": "<center> <img\nsrc=https://huggingface.co/front/assets/huggingface_logo-noborder.svg\nalt='Hugging Face'> <br> Copy a token from <a\nhref=\"https://huggingface.co/settings/tokens\" target=\"_blank\">your Hugging Face\ntokens page</a> and paste it below. <br> Immediately click login after copying\nyour token or it might be stored in plain text in this notebook file. </center>"
          }
        },
        "3368abeebf1547f1a43b7f2fe7513fae": {
          "model_module": "@jupyter-widgets/controls",
          "model_module_version": "1.5.0",
          "model_name": "ButtonModel",
          "state": {
            "_dom_classes": [],
            "_model_module": "@jupyter-widgets/controls",
            "_model_module_version": "1.5.0",
            "_model_name": "ButtonModel",
            "_view_count": null,
            "_view_module": "@jupyter-widgets/controls",
            "_view_module_version": "1.5.0",
            "_view_name": "ButtonView",
            "button_style": "",
            "description": "Login",
            "disabled": false,
            "icon": "",
            "layout": "IPY_MODEL_95d4169cbb724d309c1cb298859ce026",
            "style": "IPY_MODEL_23d9fc2964cf42c9a4b282926f281639",
            "tooltip": ""
          }
        },
        "389a1170172f41da9b948d124db32d56": {
          "model_module": "@jupyter-widgets/base",
          "model_module_version": "1.2.0",
          "model_name": "LayoutModel",
          "state": {
            "_model_module": "@jupyter-widgets/base",
            "_model_module_version": "1.2.0",
            "_model_name": "LayoutModel",
            "_view_count": null,
            "_view_module": "@jupyter-widgets/base",
            "_view_module_version": "1.2.0",
            "_view_name": "LayoutView",
            "align_content": null,
            "align_items": null,
            "align_self": null,
            "border": null,
            "bottom": null,
            "display": null,
            "flex": null,
            "flex_flow": null,
            "grid_area": null,
            "grid_auto_columns": null,
            "grid_auto_flow": null,
            "grid_auto_rows": null,
            "grid_column": null,
            "grid_gap": null,
            "grid_row": null,
            "grid_template_areas": null,
            "grid_template_columns": null,
            "grid_template_rows": null,
            "height": null,
            "justify_content": null,
            "justify_items": null,
            "left": null,
            "margin": null,
            "max_height": null,
            "max_width": null,
            "min_height": null,
            "min_width": null,
            "object_fit": null,
            "object_position": null,
            "order": null,
            "overflow": null,
            "overflow_x": null,
            "overflow_y": null,
            "padding": null,
            "right": null,
            "top": null,
            "visibility": null,
            "width": null
          }
        },
        "3fc5bd2c325146a2bba8d48bb99d2146": {
          "model_module": "@jupyter-widgets/base",
          "model_module_version": "1.2.0",
          "model_name": "LayoutModel",
          "state": {
            "_model_module": "@jupyter-widgets/base",
            "_model_module_version": "1.2.0",
            "_model_name": "LayoutModel",
            "_view_count": null,
            "_view_module": "@jupyter-widgets/base",
            "_view_module_version": "1.2.0",
            "_view_name": "LayoutView",
            "align_content": null,
            "align_items": null,
            "align_self": null,
            "border": null,
            "bottom": null,
            "display": null,
            "flex": null,
            "flex_flow": null,
            "grid_area": null,
            "grid_auto_columns": null,
            "grid_auto_flow": null,
            "grid_auto_rows": null,
            "grid_column": null,
            "grid_gap": null,
            "grid_row": null,
            "grid_template_areas": null,
            "grid_template_columns": null,
            "grid_template_rows": null,
            "height": null,
            "justify_content": null,
            "justify_items": null,
            "left": null,
            "margin": null,
            "max_height": null,
            "max_width": null,
            "min_height": null,
            "min_width": null,
            "object_fit": null,
            "object_position": null,
            "order": null,
            "overflow": null,
            "overflow_x": null,
            "overflow_y": null,
            "padding": null,
            "right": null,
            "top": null,
            "visibility": null,
            "width": null
          }
        },
        "4c72df9c41764989a4ca09aec76fa8ab": {
          "model_module": "@jupyter-widgets/controls",
          "model_module_version": "1.5.0",
          "model_name": "ProgressStyleModel",
          "state": {
            "_model_module": "@jupyter-widgets/controls",
            "_model_module_version": "1.5.0",
            "_model_name": "ProgressStyleModel",
            "_view_count": null,
            "_view_module": "@jupyter-widgets/base",
            "_view_module_version": "1.2.0",
            "_view_name": "StyleView",
            "bar_color": null,
            "description_width": ""
          }
        },
        "4ed9c6726f4c495ca5cabf3da6f19848": {
          "model_module": "@jupyter-widgets/controls",
          "model_module_version": "1.5.0",
          "model_name": "ButtonModel",
          "state": {
            "_dom_classes": [],
            "_model_module": "@jupyter-widgets/controls",
            "_model_module_version": "1.5.0",
            "_model_name": "ButtonModel",
            "_view_count": null,
            "_view_module": "@jupyter-widgets/controls",
            "_view_module_version": "1.5.0",
            "_view_name": "ButtonView",
            "button_style": "",
            "description": "Use password",
            "disabled": false,
            "icon": "",
            "layout": "IPY_MODEL_5c653b9772db45e7b2fde0b067c475a7",
            "style": "IPY_MODEL_e671ce3f39614a859d79b0d6b6610426",
            "tooltip": ""
          }
        },
        "5c653b9772db45e7b2fde0b067c475a7": {
          "model_module": "@jupyter-widgets/base",
          "model_module_version": "1.2.0",
          "model_name": "LayoutModel",
          "state": {
            "_model_module": "@jupyter-widgets/base",
            "_model_module_version": "1.2.0",
            "_model_name": "LayoutModel",
            "_view_count": null,
            "_view_module": "@jupyter-widgets/base",
            "_view_module_version": "1.2.0",
            "_view_name": "LayoutView",
            "align_content": null,
            "align_items": null,
            "align_self": null,
            "border": null,
            "bottom": null,
            "display": null,
            "flex": null,
            "flex_flow": null,
            "grid_area": null,
            "grid_auto_columns": null,
            "grid_auto_flow": null,
            "grid_auto_rows": null,
            "grid_column": null,
            "grid_gap": null,
            "grid_row": null,
            "grid_template_areas": null,
            "grid_template_columns": null,
            "grid_template_rows": null,
            "height": null,
            "justify_content": null,
            "justify_items": null,
            "left": null,
            "margin": null,
            "max_height": null,
            "max_width": null,
            "min_height": null,
            "min_width": null,
            "object_fit": null,
            "object_position": null,
            "order": null,
            "overflow": null,
            "overflow_x": null,
            "overflow_y": null,
            "padding": null,
            "right": null,
            "top": null,
            "visibility": null,
            "width": null
          }
        },
        "5ed8c46ac6d144579dbe4a915d91f60c": {
          "model_module": "@jupyter-widgets/controls",
          "model_module_version": "1.5.0",
          "model_name": "HBoxModel",
          "state": {
            "_dom_classes": [],
            "_model_module": "@jupyter-widgets/controls",
            "_model_module_version": "1.5.0",
            "_model_name": "HBoxModel",
            "_view_count": null,
            "_view_module": "@jupyter-widgets/controls",
            "_view_module_version": "1.5.0",
            "_view_name": "HBoxView",
            "box_style": "",
            "children": [
              "IPY_MODEL_fd83df43e1fc406ba3fb2a21b8c5bd7e",
              "IPY_MODEL_9ac9b88f7fac4880843c7b615d97f48f",
              "IPY_MODEL_ba3af337654d44208388f0b8b9cdadb7"
            ],
            "layout": "IPY_MODEL_284864de76de439e8b00c3657f50ffbb"
          }
        },
        "6012c48b674348979ef01d6bc35b867c": {
          "model_module": "@jupyter-widgets/controls",
          "model_module_version": "1.5.0",
          "model_name": "DescriptionStyleModel",
          "state": {
            "_model_module": "@jupyter-widgets/controls",
            "_model_module_version": "1.5.0",
            "_model_name": "DescriptionStyleModel",
            "_view_count": null,
            "_view_module": "@jupyter-widgets/base",
            "_view_module_version": "1.2.0",
            "_view_name": "StyleView",
            "description_width": ""
          }
        },
        "618e9a677d1f497facbaaaafcaedba79": {
          "model_module": "@jupyter-widgets/base",
          "model_module_version": "1.2.0",
          "model_name": "LayoutModel",
          "state": {
            "_model_module": "@jupyter-widgets/base",
            "_model_module_version": "1.2.0",
            "_model_name": "LayoutModel",
            "_view_count": null,
            "_view_module": "@jupyter-widgets/base",
            "_view_module_version": "1.2.0",
            "_view_name": "LayoutView",
            "align_content": null,
            "align_items": null,
            "align_self": null,
            "border": null,
            "bottom": null,
            "display": null,
            "flex": null,
            "flex_flow": null,
            "grid_area": null,
            "grid_auto_columns": null,
            "grid_auto_flow": null,
            "grid_auto_rows": null,
            "grid_column": null,
            "grid_gap": null,
            "grid_row": null,
            "grid_template_areas": null,
            "grid_template_columns": null,
            "grid_template_rows": null,
            "height": null,
            "justify_content": null,
            "justify_items": null,
            "left": null,
            "margin": null,
            "max_height": null,
            "max_width": null,
            "min_height": null,
            "min_width": null,
            "object_fit": null,
            "object_position": null,
            "order": null,
            "overflow": null,
            "overflow_x": null,
            "overflow_y": null,
            "padding": null,
            "right": null,
            "top": null,
            "visibility": null,
            "width": null
          }
        },
        "631c45a3c4de4fba8d15dccded47b4b0": {
          "model_module": "@jupyter-widgets/controls",
          "model_module_version": "1.5.0",
          "model_name": "HTMLModel",
          "state": {
            "_dom_classes": [],
            "_model_module": "@jupyter-widgets/controls",
            "_model_module_version": "1.5.0",
            "_model_name": "HTMLModel",
            "_view_count": null,
            "_view_module": "@jupyter-widgets/controls",
            "_view_module_version": "1.5.0",
            "_view_name": "HTMLView",
            "description": "",
            "description_tooltip": null,
            "layout": "IPY_MODEL_3fc5bd2c325146a2bba8d48bb99d2146",
            "placeholder": "​",
            "style": "IPY_MODEL_6012c48b674348979ef01d6bc35b867c",
            "value": " 363M/363M [00:08&lt;00:00, 63.0MB/s]"
          }
        },
        "72c8f1fcfd344c23a73b328db127f29a": {
          "model_module": "@jupyter-widgets/controls",
          "model_module_version": "1.5.0",
          "model_name": "ProgressStyleModel",
          "state": {
            "_model_module": "@jupyter-widgets/controls",
            "_model_module_version": "1.5.0",
            "_model_name": "ProgressStyleModel",
            "_view_count": null,
            "_view_module": "@jupyter-widgets/base",
            "_view_module_version": "1.2.0",
            "_view_name": "StyleView",
            "bar_color": null,
            "description_width": ""
          }
        },
        "73058f58cad34387874de3b96b69fe56": {
          "model_module": "@jupyter-widgets/base",
          "model_module_version": "1.2.0",
          "model_name": "LayoutModel",
          "state": {
            "_model_module": "@jupyter-widgets/base",
            "_model_module_version": "1.2.0",
            "_model_name": "LayoutModel",
            "_view_count": null,
            "_view_module": "@jupyter-widgets/base",
            "_view_module_version": "1.2.0",
            "_view_name": "LayoutView",
            "align_content": null,
            "align_items": null,
            "align_self": null,
            "border": null,
            "bottom": null,
            "display": null,
            "flex": null,
            "flex_flow": null,
            "grid_area": null,
            "grid_auto_columns": null,
            "grid_auto_flow": null,
            "grid_auto_rows": null,
            "grid_column": null,
            "grid_gap": null,
            "grid_row": null,
            "grid_template_areas": null,
            "grid_template_columns": null,
            "grid_template_rows": null,
            "height": null,
            "justify_content": null,
            "justify_items": null,
            "left": null,
            "margin": null,
            "max_height": null,
            "max_width": null,
            "min_height": null,
            "min_width": null,
            "object_fit": null,
            "object_position": null,
            "order": null,
            "overflow": null,
            "overflow_x": null,
            "overflow_y": null,
            "padding": null,
            "right": null,
            "top": null,
            "visibility": null,
            "width": null
          }
        },
        "7503e7d482c646eda187bd3f45b7f676": {
          "model_module": "@jupyter-widgets/controls",
          "model_module_version": "1.5.0",
          "model_name": "DescriptionStyleModel",
          "state": {
            "_model_module": "@jupyter-widgets/controls",
            "_model_module_version": "1.5.0",
            "_model_name": "DescriptionStyleModel",
            "_view_count": null,
            "_view_module": "@jupyter-widgets/base",
            "_view_module_version": "1.2.0",
            "_view_name": "StyleView",
            "description_width": ""
          }
        },
        "7838a2aafebc4fbfa350e0014fd69869": {
          "model_module": "@jupyter-widgets/controls",
          "model_module_version": "1.5.0",
          "model_name": "ProgressStyleModel",
          "state": {
            "_model_module": "@jupyter-widgets/controls",
            "_model_module_version": "1.5.0",
            "_model_name": "ProgressStyleModel",
            "_view_count": null,
            "_view_module": "@jupyter-widgets/base",
            "_view_module_version": "1.2.0",
            "_view_name": "StyleView",
            "bar_color": null,
            "description_width": ""
          }
        },
        "7ca8194424dc4255ae7727fa8e405ac3": {
          "model_module": "@jupyter-widgets/controls",
          "model_module_version": "1.5.0",
          "model_name": "HTMLModel",
          "state": {
            "_dom_classes": [],
            "_model_module": "@jupyter-widgets/controls",
            "_model_module_version": "1.5.0",
            "_model_name": "HTMLModel",
            "_view_count": null,
            "_view_module": "@jupyter-widgets/controls",
            "_view_module_version": "1.5.0",
            "_view_name": "HTMLView",
            "description": "",
            "description_tooltip": null,
            "layout": "IPY_MODEL_aeef08b162f24e7ca6e553359a97e2d8",
            "placeholder": "​",
            "style": "IPY_MODEL_2d176c5f704e4955bd819b50f5f1b558",
            "value": " 361M/361M [09:42&lt;00:00, 17.5MB/s]"
          }
        },
        "7d5f660959cf4c6d907eb4e524fe542a": {
          "model_module": "@jupyter-widgets/base",
          "model_module_version": "1.2.0",
          "model_name": "LayoutModel",
          "state": {
            "_model_module": "@jupyter-widgets/base",
            "_model_module_version": "1.2.0",
            "_model_name": "LayoutModel",
            "_view_count": null,
            "_view_module": "@jupyter-widgets/base",
            "_view_module_version": "1.2.0",
            "_view_name": "LayoutView",
            "align_content": null,
            "align_items": null,
            "align_self": null,
            "border": null,
            "bottom": null,
            "display": null,
            "flex": null,
            "flex_flow": null,
            "grid_area": null,
            "grid_auto_columns": null,
            "grid_auto_flow": null,
            "grid_auto_rows": null,
            "grid_column": null,
            "grid_gap": null,
            "grid_row": null,
            "grid_template_areas": null,
            "grid_template_columns": null,
            "grid_template_rows": null,
            "height": null,
            "justify_content": null,
            "justify_items": null,
            "left": null,
            "margin": null,
            "max_height": null,
            "max_width": null,
            "min_height": null,
            "min_width": null,
            "object_fit": null,
            "object_position": null,
            "order": null,
            "overflow": null,
            "overflow_x": null,
            "overflow_y": null,
            "padding": null,
            "right": null,
            "top": null,
            "visibility": null,
            "width": null
          }
        },
        "7e05c8dcbdeb4eaba60c7052f440877d": {
          "model_module": "@jupyter-widgets/controls",
          "model_module_version": "1.5.0",
          "model_name": "FloatProgressModel",
          "state": {
            "_dom_classes": [],
            "_model_module": "@jupyter-widgets/controls",
            "_model_module_version": "1.5.0",
            "_model_name": "FloatProgressModel",
            "_view_count": null,
            "_view_module": "@jupyter-widgets/controls",
            "_view_module_version": "1.5.0",
            "_view_name": "ProgressView",
            "bar_style": "success",
            "description": "",
            "description_tooltip": null,
            "layout": "IPY_MODEL_8619f82d79eb486f888a1b58812cce2e",
            "max": 378358803,
            "min": 0,
            "orientation": "horizontal",
            "style": "IPY_MODEL_e23cd4c9e063428481b865e322383351",
            "value": 378358803
          }
        },
        "80531c00af1340a587031d7169c573c8": {
          "model_module": "@jupyter-widgets/base",
          "model_module_version": "1.2.0",
          "model_name": "LayoutModel",
          "state": {
            "_model_module": "@jupyter-widgets/base",
            "_model_module_version": "1.2.0",
            "_model_name": "LayoutModel",
            "_view_count": null,
            "_view_module": "@jupyter-widgets/base",
            "_view_module_version": "1.2.0",
            "_view_name": "LayoutView",
            "align_content": null,
            "align_items": null,
            "align_self": null,
            "border": null,
            "bottom": null,
            "display": null,
            "flex": null,
            "flex_flow": null,
            "grid_area": null,
            "grid_auto_columns": null,
            "grid_auto_flow": null,
            "grid_auto_rows": null,
            "grid_column": null,
            "grid_gap": null,
            "grid_row": null,
            "grid_template_areas": null,
            "grid_template_columns": null,
            "grid_template_rows": null,
            "height": null,
            "justify_content": null,
            "justify_items": null,
            "left": null,
            "margin": null,
            "max_height": null,
            "max_width": null,
            "min_height": null,
            "min_width": null,
            "object_fit": null,
            "object_position": null,
            "order": null,
            "overflow": null,
            "overflow_x": null,
            "overflow_y": null,
            "padding": null,
            "right": null,
            "top": null,
            "visibility": null,
            "width": null
          }
        },
        "8539e25aaa664bea86f702bcccbf306d": {
          "model_module": "@jupyter-widgets/base",
          "model_module_version": "1.2.0",
          "model_name": "LayoutModel",
          "state": {
            "_model_module": "@jupyter-widgets/base",
            "_model_module_version": "1.2.0",
            "_model_name": "LayoutModel",
            "_view_count": null,
            "_view_module": "@jupyter-widgets/base",
            "_view_module_version": "1.2.0",
            "_view_name": "LayoutView",
            "align_content": null,
            "align_items": null,
            "align_self": null,
            "border": null,
            "bottom": null,
            "display": null,
            "flex": null,
            "flex_flow": null,
            "grid_area": null,
            "grid_auto_columns": null,
            "grid_auto_flow": null,
            "grid_auto_rows": null,
            "grid_column": null,
            "grid_gap": null,
            "grid_row": null,
            "grid_template_areas": null,
            "grid_template_columns": null,
            "grid_template_rows": null,
            "height": null,
            "justify_content": null,
            "justify_items": null,
            "left": null,
            "margin": null,
            "max_height": null,
            "max_width": null,
            "min_height": null,
            "min_width": null,
            "object_fit": null,
            "object_position": null,
            "order": null,
            "overflow": null,
            "overflow_x": null,
            "overflow_y": null,
            "padding": null,
            "right": null,
            "top": null,
            "visibility": null,
            "width": null
          }
        },
        "8619f82d79eb486f888a1b58812cce2e": {
          "model_module": "@jupyter-widgets/base",
          "model_module_version": "1.2.0",
          "model_name": "LayoutModel",
          "state": {
            "_model_module": "@jupyter-widgets/base",
            "_model_module_version": "1.2.0",
            "_model_name": "LayoutModel",
            "_view_count": null,
            "_view_module": "@jupyter-widgets/base",
            "_view_module_version": "1.2.0",
            "_view_name": "LayoutView",
            "align_content": null,
            "align_items": null,
            "align_self": null,
            "border": null,
            "bottom": null,
            "display": null,
            "flex": null,
            "flex_flow": null,
            "grid_area": null,
            "grid_auto_columns": null,
            "grid_auto_flow": null,
            "grid_auto_rows": null,
            "grid_column": null,
            "grid_gap": null,
            "grid_row": null,
            "grid_template_areas": null,
            "grid_template_columns": null,
            "grid_template_rows": null,
            "height": null,
            "justify_content": null,
            "justify_items": null,
            "left": null,
            "margin": null,
            "max_height": null,
            "max_width": null,
            "min_height": null,
            "min_width": null,
            "object_fit": null,
            "object_position": null,
            "order": null,
            "overflow": null,
            "overflow_x": null,
            "overflow_y": null,
            "padding": null,
            "right": null,
            "top": null,
            "visibility": null,
            "width": null
          }
        },
        "88f2a11b35ce4d819833317e5df5155f": {
          "model_module": "@jupyter-widgets/controls",
          "model_module_version": "1.5.0",
          "model_name": "HBoxModel",
          "state": {
            "_dom_classes": [],
            "_model_module": "@jupyter-widgets/controls",
            "_model_module_version": "1.5.0",
            "_model_name": "HBoxModel",
            "_view_count": null,
            "_view_module": "@jupyter-widgets/controls",
            "_view_module_version": "1.5.0",
            "_view_name": "HBoxView",
            "box_style": "",
            "children": [
              "IPY_MODEL_fe3f6f655e0148fba562defdfcd2b6db",
              "IPY_MODEL_18d48e4aab24494cb2f0a87380a3ba81",
              "IPY_MODEL_631c45a3c4de4fba8d15dccded47b4b0"
            ],
            "layout": "IPY_MODEL_ac2f463f2ae24cd19b0c3e3dbac7ea70"
          }
        },
        "8a568a27e9984ed89b3885e03aedd923": {
          "model_module": "@jupyter-widgets/base",
          "model_module_version": "1.2.0",
          "model_name": "LayoutModel",
          "state": {
            "_model_module": "@jupyter-widgets/base",
            "_model_module_version": "1.2.0",
            "_model_name": "LayoutModel",
            "_view_count": null,
            "_view_module": "@jupyter-widgets/base",
            "_view_module_version": "1.2.0",
            "_view_name": "LayoutView",
            "align_content": null,
            "align_items": null,
            "align_self": null,
            "border": null,
            "bottom": null,
            "display": null,
            "flex": null,
            "flex_flow": null,
            "grid_area": null,
            "grid_auto_columns": null,
            "grid_auto_flow": null,
            "grid_auto_rows": null,
            "grid_column": null,
            "grid_gap": null,
            "grid_row": null,
            "grid_template_areas": null,
            "grid_template_columns": null,
            "grid_template_rows": null,
            "height": null,
            "justify_content": null,
            "justify_items": null,
            "left": null,
            "margin": null,
            "max_height": null,
            "max_width": null,
            "min_height": null,
            "min_width": null,
            "object_fit": null,
            "object_position": null,
            "order": null,
            "overflow": null,
            "overflow_x": null,
            "overflow_y": null,
            "padding": null,
            "right": null,
            "top": null,
            "visibility": null,
            "width": null
          }
        },
        "8ab08e67a3674f35be23ad4ffd918915": {
          "model_module": "@jupyter-widgets/controls",
          "model_module_version": "1.5.0",
          "model_name": "VBoxModel",
          "state": {
            "_dom_classes": [],
            "_model_module": "@jupyter-widgets/controls",
            "_model_module_version": "1.5.0",
            "_model_name": "VBoxModel",
            "_view_count": null,
            "_view_module": "@jupyter-widgets/controls",
            "_view_module_version": "1.5.0",
            "_view_name": "VBoxView",
            "box_style": "",
            "children": [
              "IPY_MODEL_2fa8d5afcc0a4cb2ad5b0a7f8682c6b3",
              "IPY_MODEL_190363dd40e141779410e0a96dc6e3fe",
              "IPY_MODEL_3368abeebf1547f1a43b7f2fe7513fae",
              "IPY_MODEL_c3c1e84bf7f84e61bebaff2acc053c54",
              "IPY_MODEL_4ed9c6726f4c495ca5cabf3da6f19848"
            ],
            "layout": "IPY_MODEL_d005a6642d6c4f1b899a5b4ecc0b5b72"
          }
        },
        "8f00287284764d7da8b3a81c8eedc4f6": {
          "model_module": "@jupyter-widgets/base",
          "model_module_version": "1.2.0",
          "model_name": "LayoutModel",
          "state": {
            "_model_module": "@jupyter-widgets/base",
            "_model_module_version": "1.2.0",
            "_model_name": "LayoutModel",
            "_view_count": null,
            "_view_module": "@jupyter-widgets/base",
            "_view_module_version": "1.2.0",
            "_view_name": "LayoutView",
            "align_content": null,
            "align_items": null,
            "align_self": null,
            "border": null,
            "bottom": null,
            "display": null,
            "flex": null,
            "flex_flow": null,
            "grid_area": null,
            "grid_auto_columns": null,
            "grid_auto_flow": null,
            "grid_auto_rows": null,
            "grid_column": null,
            "grid_gap": null,
            "grid_row": null,
            "grid_template_areas": null,
            "grid_template_columns": null,
            "grid_template_rows": null,
            "height": null,
            "justify_content": null,
            "justify_items": null,
            "left": null,
            "margin": null,
            "max_height": null,
            "max_width": null,
            "min_height": null,
            "min_width": null,
            "object_fit": null,
            "object_position": null,
            "order": null,
            "overflow": null,
            "overflow_x": null,
            "overflow_y": null,
            "padding": null,
            "right": null,
            "top": null,
            "visibility": null,
            "width": null
          }
        },
        "91fc60e418f04c24970bd012d9ea7219": {
          "model_module": "@jupyter-widgets/controls",
          "model_module_version": "1.5.0",
          "model_name": "DescriptionStyleModel",
          "state": {
            "_model_module": "@jupyter-widgets/controls",
            "_model_module_version": "1.5.0",
            "_model_name": "DescriptionStyleModel",
            "_view_count": null,
            "_view_module": "@jupyter-widgets/base",
            "_view_module_version": "1.2.0",
            "_view_name": "StyleView",
            "description_width": ""
          }
        },
        "922b26e96d1e4eeebe0e443f87bd81cb": {
          "model_module": "@jupyter-widgets/controls",
          "model_module_version": "1.5.0",
          "model_name": "FloatProgressModel",
          "state": {
            "_dom_classes": [],
            "_model_module": "@jupyter-widgets/controls",
            "_model_module_version": "1.5.0",
            "_model_name": "FloatProgressModel",
            "_view_count": null,
            "_view_module": "@jupyter-widgets/controls",
            "_view_module_version": "1.5.0",
            "_view_name": "ProgressView",
            "bar_style": "success",
            "description": "",
            "description_tooltip": null,
            "layout": "IPY_MODEL_8f00287284764d7da8b3a81c8eedc4f6",
            "max": 1,
            "min": 0,
            "orientation": "horizontal",
            "style": "IPY_MODEL_7838a2aafebc4fbfa350e0014fd69869",
            "value": 1
          }
        },
        "95d4169cbb724d309c1cb298859ce026": {
          "model_module": "@jupyter-widgets/base",
          "model_module_version": "1.2.0",
          "model_name": "LayoutModel",
          "state": {
            "_model_module": "@jupyter-widgets/base",
            "_model_module_version": "1.2.0",
            "_model_name": "LayoutModel",
            "_view_count": null,
            "_view_module": "@jupyter-widgets/base",
            "_view_module_version": "1.2.0",
            "_view_name": "LayoutView",
            "align_content": null,
            "align_items": null,
            "align_self": null,
            "border": null,
            "bottom": null,
            "display": null,
            "flex": null,
            "flex_flow": null,
            "grid_area": null,
            "grid_auto_columns": null,
            "grid_auto_flow": null,
            "grid_auto_rows": null,
            "grid_column": null,
            "grid_gap": null,
            "grid_row": null,
            "grid_template_areas": null,
            "grid_template_columns": null,
            "grid_template_rows": null,
            "height": null,
            "justify_content": null,
            "justify_items": null,
            "left": null,
            "margin": null,
            "max_height": null,
            "max_width": null,
            "min_height": null,
            "min_width": null,
            "object_fit": null,
            "object_position": null,
            "order": null,
            "overflow": null,
            "overflow_x": null,
            "overflow_y": null,
            "padding": null,
            "right": null,
            "top": null,
            "visibility": null,
            "width": null
          }
        },
        "9ac9b88f7fac4880843c7b615d97f48f": {
          "model_module": "@jupyter-widgets/controls",
          "model_module_version": "1.5.0",
          "model_name": "FloatProgressModel",
          "state": {
            "_dom_classes": [],
            "_model_module": "@jupyter-widgets/controls",
            "_model_module_version": "1.5.0",
            "_model_name": "FloatProgressModel",
            "_view_count": null,
            "_view_module": "@jupyter-widgets/controls",
            "_view_module_version": "1.5.0",
            "_view_name": "ProgressView",
            "bar_style": "success",
            "description": "",
            "description_tooltip": null,
            "layout": "IPY_MODEL_0e16f96373ad48a882007e289488bcc9",
            "max": 2,
            "min": 0,
            "orientation": "horizontal",
            "style": "IPY_MODEL_f7d272e01666403ea525e305cf7acb6f",
            "value": 2
          }
        },
        "9ef2bf04bc1f460b935adf4e6e40ffc5": {
          "model_module": "@jupyter-widgets/base",
          "model_module_version": "1.2.0",
          "model_name": "LayoutModel",
          "state": {
            "_model_module": "@jupyter-widgets/base",
            "_model_module_version": "1.2.0",
            "_model_name": "LayoutModel",
            "_view_count": null,
            "_view_module": "@jupyter-widgets/base",
            "_view_module_version": "1.2.0",
            "_view_name": "LayoutView",
            "align_content": null,
            "align_items": null,
            "align_self": null,
            "border": null,
            "bottom": null,
            "display": null,
            "flex": null,
            "flex_flow": null,
            "grid_area": null,
            "grid_auto_columns": null,
            "grid_auto_flow": null,
            "grid_auto_rows": null,
            "grid_column": null,
            "grid_gap": null,
            "grid_row": null,
            "grid_template_areas": null,
            "grid_template_columns": null,
            "grid_template_rows": null,
            "height": null,
            "justify_content": null,
            "justify_items": null,
            "left": null,
            "margin": null,
            "max_height": null,
            "max_width": null,
            "min_height": null,
            "min_width": null,
            "object_fit": null,
            "object_position": null,
            "order": null,
            "overflow": null,
            "overflow_x": null,
            "overflow_y": null,
            "padding": null,
            "right": null,
            "top": null,
            "visibility": null,
            "width": null
          }
        },
        "a01a00ed64954023ad5d04328552ee76": {
          "model_module": "@jupyter-widgets/controls",
          "model_module_version": "1.5.0",
          "model_name": "HTMLModel",
          "state": {
            "_dom_classes": [],
            "_model_module": "@jupyter-widgets/controls",
            "_model_module_version": "1.5.0",
            "_model_name": "HTMLModel",
            "_view_count": null,
            "_view_module": "@jupyter-widgets/controls",
            "_view_module_version": "1.5.0",
            "_view_name": "HTMLView",
            "description": "",
            "description_tooltip": null,
            "layout": "IPY_MODEL_13f6384c14084daebb3ff9a94623295e",
            "placeholder": "​",
            "style": "IPY_MODEL_c0b5931d5c7541e9bd726b8a64d0e2db",
            "value": "Upload file runs/May13_01-47-25_1a8fbb25ce45/events.out.tfevents.1652406460.1a8fbb25ce45.81.5: 100%"
          }
        },
        "aa11714d89534d3cacb9a7c9e8d47f7f": {
          "model_module": "@jupyter-widgets/controls",
          "model_module_version": "1.5.0",
          "model_name": "DescriptionStyleModel",
          "state": {
            "_model_module": "@jupyter-widgets/controls",
            "_model_module_version": "1.5.0",
            "_model_name": "DescriptionStyleModel",
            "_view_count": null,
            "_view_module": "@jupyter-widgets/base",
            "_view_module_version": "1.2.0",
            "_view_name": "StyleView",
            "description_width": ""
          }
        },
        "ac2f463f2ae24cd19b0c3e3dbac7ea70": {
          "model_module": "@jupyter-widgets/base",
          "model_module_version": "1.2.0",
          "model_name": "LayoutModel",
          "state": {
            "_model_module": "@jupyter-widgets/base",
            "_model_module_version": "1.2.0",
            "_model_name": "LayoutModel",
            "_view_count": null,
            "_view_module": "@jupyter-widgets/base",
            "_view_module_version": "1.2.0",
            "_view_name": "LayoutView",
            "align_content": null,
            "align_items": null,
            "align_self": null,
            "border": null,
            "bottom": null,
            "display": null,
            "flex": null,
            "flex_flow": null,
            "grid_area": null,
            "grid_auto_columns": null,
            "grid_auto_flow": null,
            "grid_auto_rows": null,
            "grid_column": null,
            "grid_gap": null,
            "grid_row": null,
            "grid_template_areas": null,
            "grid_template_columns": null,
            "grid_template_rows": null,
            "height": null,
            "justify_content": null,
            "justify_items": null,
            "left": null,
            "margin": null,
            "max_height": null,
            "max_width": null,
            "min_height": null,
            "min_width": null,
            "object_fit": null,
            "object_position": null,
            "order": null,
            "overflow": null,
            "overflow_x": null,
            "overflow_y": null,
            "padding": null,
            "right": null,
            "top": null,
            "visibility": null,
            "width": null
          }
        },
        "ac59de33ebe44bfcb7208981a84b2d11": {
          "model_module": "@jupyter-widgets/controls",
          "model_module_version": "1.5.0",
          "model_name": "DescriptionStyleModel",
          "state": {
            "_model_module": "@jupyter-widgets/controls",
            "_model_module_version": "1.5.0",
            "_model_name": "DescriptionStyleModel",
            "_view_count": null,
            "_view_module": "@jupyter-widgets/base",
            "_view_module_version": "1.2.0",
            "_view_name": "StyleView",
            "description_width": ""
          }
        },
        "ac92a21c5499489fab69509e2fc6ffce": {
          "model_module": "@jupyter-widgets/controls",
          "model_module_version": "1.5.0",
          "model_name": "HBoxModel",
          "state": {
            "_dom_classes": [],
            "_model_module": "@jupyter-widgets/controls",
            "_model_module_version": "1.5.0",
            "_model_name": "HBoxModel",
            "_view_count": null,
            "_view_module": "@jupyter-widgets/controls",
            "_view_module_version": "1.5.0",
            "_view_name": "HBoxView",
            "box_style": "",
            "children": [
              "IPY_MODEL_d4d12676892b4d4dbae8428f2f19811b",
              "IPY_MODEL_7e05c8dcbdeb4eaba60c7052f440877d",
              "IPY_MODEL_7ca8194424dc4255ae7727fa8e405ac3"
            ],
            "layout": "IPY_MODEL_73058f58cad34387874de3b96b69fe56"
          }
        },
        "aebe5d35d986446f884704fa0c5585b7": {
          "model_module": "@jupyter-widgets/controls",
          "model_module_version": "1.5.0",
          "model_name": "HBoxModel",
          "state": {
            "_dom_classes": [],
            "_model_module": "@jupyter-widgets/controls",
            "_model_module_version": "1.5.0",
            "_model_name": "HBoxModel",
            "_view_count": null,
            "_view_module": "@jupyter-widgets/controls",
            "_view_module_version": "1.5.0",
            "_view_name": "HBoxView",
            "box_style": "",
            "children": [
              "IPY_MODEL_a01a00ed64954023ad5d04328552ee76",
              "IPY_MODEL_f0f5fd2c4c2d4c99ad1691175bdd374c",
              "IPY_MODEL_c3151133ae5e4f9c8c69e80cfa6bfa82"
            ],
            "layout": "IPY_MODEL_b5df395f6b99491c869606be7f17eaed"
          }
        },
        "aeef08b162f24e7ca6e553359a97e2d8": {
          "model_module": "@jupyter-widgets/base",
          "model_module_version": "1.2.0",
          "model_name": "LayoutModel",
          "state": {
            "_model_module": "@jupyter-widgets/base",
            "_model_module_version": "1.2.0",
            "_model_name": "LayoutModel",
            "_view_count": null,
            "_view_module": "@jupyter-widgets/base",
            "_view_module_version": "1.2.0",
            "_view_name": "LayoutView",
            "align_content": null,
            "align_items": null,
            "align_self": null,
            "border": null,
            "bottom": null,
            "display": null,
            "flex": null,
            "flex_flow": null,
            "grid_area": null,
            "grid_auto_columns": null,
            "grid_auto_flow": null,
            "grid_auto_rows": null,
            "grid_column": null,
            "grid_gap": null,
            "grid_row": null,
            "grid_template_areas": null,
            "grid_template_columns": null,
            "grid_template_rows": null,
            "height": null,
            "justify_content": null,
            "justify_items": null,
            "left": null,
            "margin": null,
            "max_height": null,
            "max_width": null,
            "min_height": null,
            "min_width": null,
            "object_fit": null,
            "object_position": null,
            "order": null,
            "overflow": null,
            "overflow_x": null,
            "overflow_y": null,
            "padding": null,
            "right": null,
            "top": null,
            "visibility": null,
            "width": null
          }
        },
        "b5df395f6b99491c869606be7f17eaed": {
          "model_module": "@jupyter-widgets/base",
          "model_module_version": "1.2.0",
          "model_name": "LayoutModel",
          "state": {
            "_model_module": "@jupyter-widgets/base",
            "_model_module_version": "1.2.0",
            "_model_name": "LayoutModel",
            "_view_count": null,
            "_view_module": "@jupyter-widgets/base",
            "_view_module_version": "1.2.0",
            "_view_name": "LayoutView",
            "align_content": null,
            "align_items": null,
            "align_self": null,
            "border": null,
            "bottom": null,
            "display": null,
            "flex": null,
            "flex_flow": null,
            "grid_area": null,
            "grid_auto_columns": null,
            "grid_auto_flow": null,
            "grid_auto_rows": null,
            "grid_column": null,
            "grid_gap": null,
            "grid_row": null,
            "grid_template_areas": null,
            "grid_template_columns": null,
            "grid_template_rows": null,
            "height": null,
            "justify_content": null,
            "justify_items": null,
            "left": null,
            "margin": null,
            "max_height": null,
            "max_width": null,
            "min_height": null,
            "min_width": null,
            "object_fit": null,
            "object_position": null,
            "order": null,
            "overflow": null,
            "overflow_x": null,
            "overflow_y": null,
            "padding": null,
            "right": null,
            "top": null,
            "visibility": null,
            "width": null
          }
        },
        "b64b6306dacd45dfaeaead24ed3f2c44": {
          "model_module": "@jupyter-widgets/base",
          "model_module_version": "1.2.0",
          "model_name": "LayoutModel",
          "state": {
            "_model_module": "@jupyter-widgets/base",
            "_model_module_version": "1.2.0",
            "_model_name": "LayoutModel",
            "_view_count": null,
            "_view_module": "@jupyter-widgets/base",
            "_view_module_version": "1.2.0",
            "_view_name": "LayoutView",
            "align_content": null,
            "align_items": null,
            "align_self": null,
            "border": null,
            "bottom": null,
            "display": null,
            "flex": null,
            "flex_flow": null,
            "grid_area": null,
            "grid_auto_columns": null,
            "grid_auto_flow": null,
            "grid_auto_rows": null,
            "grid_column": null,
            "grid_gap": null,
            "grid_row": null,
            "grid_template_areas": null,
            "grid_template_columns": null,
            "grid_template_rows": null,
            "height": null,
            "justify_content": null,
            "justify_items": null,
            "left": null,
            "margin": null,
            "max_height": null,
            "max_width": null,
            "min_height": null,
            "min_width": null,
            "object_fit": null,
            "object_position": null,
            "order": null,
            "overflow": null,
            "overflow_x": null,
            "overflow_y": null,
            "padding": null,
            "right": null,
            "top": null,
            "visibility": null,
            "width": null
          }
        },
        "b68875a18c7549898000135123ffb44a": {
          "model_module": "@jupyter-widgets/controls",
          "model_module_version": "1.5.0",
          "model_name": "DescriptionStyleModel",
          "state": {
            "_model_module": "@jupyter-widgets/controls",
            "_model_module_version": "1.5.0",
            "_model_name": "DescriptionStyleModel",
            "_view_count": null,
            "_view_module": "@jupyter-widgets/base",
            "_view_module_version": "1.2.0",
            "_view_name": "StyleView",
            "description_width": ""
          }
        },
        "ba3af337654d44208388f0b8b9cdadb7": {
          "model_module": "@jupyter-widgets/controls",
          "model_module_version": "1.5.0",
          "model_name": "HTMLModel",
          "state": {
            "_dom_classes": [],
            "_model_module": "@jupyter-widgets/controls",
            "_model_module_version": "1.5.0",
            "_model_name": "HTMLModel",
            "_view_count": null,
            "_view_module": "@jupyter-widgets/controls",
            "_view_module_version": "1.5.0",
            "_view_name": "HTMLView",
            "description": "",
            "description_tooltip": null,
            "layout": "IPY_MODEL_389a1170172f41da9b948d124db32d56",
            "placeholder": "​",
            "style": "IPY_MODEL_b68875a18c7549898000135123ffb44a",
            "value": " 2/2 [00:48&lt;00:00, 22.95s/ba]"
          }
        },
        "c0b5931d5c7541e9bd726b8a64d0e2db": {
          "model_module": "@jupyter-widgets/controls",
          "model_module_version": "1.5.0",
          "model_name": "DescriptionStyleModel",
          "state": {
            "_model_module": "@jupyter-widgets/controls",
            "_model_module_version": "1.5.0",
            "_model_name": "DescriptionStyleModel",
            "_view_count": null,
            "_view_module": "@jupyter-widgets/base",
            "_view_module_version": "1.2.0",
            "_view_name": "StyleView",
            "description_width": ""
          }
        },
        "c3151133ae5e4f9c8c69e80cfa6bfa82": {
          "model_module": "@jupyter-widgets/controls",
          "model_module_version": "1.5.0",
          "model_name": "HTMLModel",
          "state": {
            "_dom_classes": [],
            "_model_module": "@jupyter-widgets/controls",
            "_model_module_version": "1.5.0",
            "_model_name": "HTMLModel",
            "_view_count": null,
            "_view_module": "@jupyter-widgets/controls",
            "_view_module_version": "1.5.0",
            "_view_name": "HTMLView",
            "description": "",
            "description_tooltip": null,
            "layout": "IPY_MODEL_8a568a27e9984ed89b3885e03aedd923",
            "placeholder": "​",
            "style": "IPY_MODEL_f846f60eef0443789749fcadb515165a",
            "value": " 10.8k/10.8k [09:41&lt;00:00, 13.2B/s]"
          }
        },
        "c3c0c14f787b4baeb7ca98e8921d04e2": {
          "model_module": "@jupyter-widgets/controls",
          "model_module_version": "1.5.0",
          "model_name": "DescriptionStyleModel",
          "state": {
            "_model_module": "@jupyter-widgets/controls",
            "_model_module_version": "1.5.0",
            "_model_name": "DescriptionStyleModel",
            "_view_count": null,
            "_view_module": "@jupyter-widgets/base",
            "_view_module_version": "1.2.0",
            "_view_name": "StyleView",
            "description_width": ""
          }
        },
        "c3c1e84bf7f84e61bebaff2acc053c54": {
          "model_module": "@jupyter-widgets/controls",
          "model_module_version": "1.5.0",
          "model_name": "HTMLModel",
          "state": {
            "_dom_classes": [],
            "_model_module": "@jupyter-widgets/controls",
            "_model_module_version": "1.5.0",
            "_model_name": "HTMLModel",
            "_view_count": null,
            "_view_module": "@jupyter-widgets/controls",
            "_view_module_version": "1.5.0",
            "_view_name": "HTMLView",
            "description": "",
            "description_tooltip": null,
            "layout": "IPY_MODEL_7d5f660959cf4c6d907eb4e524fe542a",
            "placeholder": "​",
            "style": "IPY_MODEL_1010e4d43c174484971674062a5ae061",
            "value": "\n<b>Pro Tip:</b> If you don't already have one, you can create a dedicated\n'notebooks' token with 'write' access, that you can then easily reuse for all\nnotebooks. <br> <i>Logging in with your username and password is deprecated and\nwon't be possible anymore in the near future. You can still use them for now by\nclicking below.</i> </center>"
          }
        },
        "c42ec6e67bfe4d4998ce6fbd1fdf5776": {
          "model_module": "@jupyter-widgets/base",
          "model_module_version": "1.2.0",
          "model_name": "LayoutModel",
          "state": {
            "_model_module": "@jupyter-widgets/base",
            "_model_module_version": "1.2.0",
            "_model_name": "LayoutModel",
            "_view_count": null,
            "_view_module": "@jupyter-widgets/base",
            "_view_module_version": "1.2.0",
            "_view_name": "LayoutView",
            "align_content": null,
            "align_items": null,
            "align_self": null,
            "border": null,
            "bottom": null,
            "display": null,
            "flex": null,
            "flex_flow": null,
            "grid_area": null,
            "grid_auto_columns": null,
            "grid_auto_flow": null,
            "grid_auto_rows": null,
            "grid_column": null,
            "grid_gap": null,
            "grid_row": null,
            "grid_template_areas": null,
            "grid_template_columns": null,
            "grid_template_rows": null,
            "height": null,
            "justify_content": null,
            "justify_items": null,
            "left": null,
            "margin": null,
            "max_height": null,
            "max_width": null,
            "min_height": null,
            "min_width": null,
            "object_fit": null,
            "object_position": null,
            "order": null,
            "overflow": null,
            "overflow_x": null,
            "overflow_y": null,
            "padding": null,
            "right": null,
            "top": null,
            "visibility": null,
            "width": null
          }
        },
        "c6507529d4734b8d98ddeaea69ad6df5": {
          "model_module": "@jupyter-widgets/controls",
          "model_module_version": "1.5.0",
          "model_name": "HBoxModel",
          "state": {
            "_dom_classes": [],
            "_model_module": "@jupyter-widgets/controls",
            "_model_module_version": "1.5.0",
            "_model_name": "HBoxModel",
            "_view_count": null,
            "_view_module": "@jupyter-widgets/controls",
            "_view_module_version": "1.5.0",
            "_view_name": "HBoxView",
            "box_style": "",
            "children": [
              "IPY_MODEL_d47a10640b15479e80ce895e73b83ef9",
              "IPY_MODEL_922b26e96d1e4eeebe0e443f87bd81cb",
              "IPY_MODEL_faa14aeba4c54ed2bfd3cabf79513d34"
            ],
            "layout": "IPY_MODEL_c42ec6e67bfe4d4998ce6fbd1fdf5776"
          }
        },
        "d005a6642d6c4f1b899a5b4ecc0b5b72": {
          "model_module": "@jupyter-widgets/base",
          "model_module_version": "1.2.0",
          "model_name": "LayoutModel",
          "state": {
            "_model_module": "@jupyter-widgets/base",
            "_model_module_version": "1.2.0",
            "_model_name": "LayoutModel",
            "_view_count": null,
            "_view_module": "@jupyter-widgets/base",
            "_view_module_version": "1.2.0",
            "_view_name": "LayoutView",
            "align_content": null,
            "align_items": "center",
            "align_self": null,
            "border": null,
            "bottom": null,
            "display": "flex",
            "flex": null,
            "flex_flow": "column",
            "grid_area": null,
            "grid_auto_columns": null,
            "grid_auto_flow": null,
            "grid_auto_rows": null,
            "grid_column": null,
            "grid_gap": null,
            "grid_row": null,
            "grid_template_areas": null,
            "grid_template_columns": null,
            "grid_template_rows": null,
            "height": null,
            "justify_content": null,
            "justify_items": null,
            "left": null,
            "margin": null,
            "max_height": null,
            "max_width": null,
            "min_height": null,
            "min_width": null,
            "object_fit": null,
            "object_position": null,
            "order": null,
            "overflow": null,
            "overflow_x": null,
            "overflow_y": null,
            "padding": null,
            "right": null,
            "top": null,
            "visibility": null,
            "width": "50%"
          }
        },
        "d47a10640b15479e80ce895e73b83ef9": {
          "model_module": "@jupyter-widgets/controls",
          "model_module_version": "1.5.0",
          "model_name": "HTMLModel",
          "state": {
            "_dom_classes": [],
            "_model_module": "@jupyter-widgets/controls",
            "_model_module_version": "1.5.0",
            "_model_name": "HTMLModel",
            "_view_count": null,
            "_view_module": "@jupyter-widgets/controls",
            "_view_module_version": "1.5.0",
            "_view_name": "HTMLView",
            "description": "",
            "description_tooltip": null,
            "layout": "IPY_MODEL_0accbad77429496f8522b536ce04f244",
            "placeholder": "​",
            "style": "IPY_MODEL_7503e7d482c646eda187bd3f45b7f676",
            "value": "100%"
          }
        },
        "d4d12676892b4d4dbae8428f2f19811b": {
          "model_module": "@jupyter-widgets/controls",
          "model_module_version": "1.5.0",
          "model_name": "HTMLModel",
          "state": {
            "_dom_classes": [],
            "_model_module": "@jupyter-widgets/controls",
            "_model_module_version": "1.5.0",
            "_model_name": "HTMLModel",
            "_view_count": null,
            "_view_module": "@jupyter-widgets/controls",
            "_view_module_version": "1.5.0",
            "_view_name": "HTMLView",
            "description": "",
            "description_tooltip": null,
            "layout": "IPY_MODEL_27f8084915d24651a60fa955c205024a",
            "placeholder": "​",
            "style": "IPY_MODEL_ac59de33ebe44bfcb7208981a84b2d11",
            "value": "Upload file pytorch_model.bin: 100%"
          }
        },
        "e23cd4c9e063428481b865e322383351": {
          "model_module": "@jupyter-widgets/controls",
          "model_module_version": "1.5.0",
          "model_name": "ProgressStyleModel",
          "state": {
            "_model_module": "@jupyter-widgets/controls",
            "_model_module_version": "1.5.0",
            "_model_name": "ProgressStyleModel",
            "_view_count": null,
            "_view_module": "@jupyter-widgets/base",
            "_view_module_version": "1.2.0",
            "_view_name": "StyleView",
            "bar_color": null,
            "description_width": ""
          }
        },
        "e671ce3f39614a859d79b0d6b6610426": {
          "model_module": "@jupyter-widgets/controls",
          "model_module_version": "1.5.0",
          "model_name": "ButtonStyleModel",
          "state": {
            "_model_module": "@jupyter-widgets/controls",
            "_model_module_version": "1.5.0",
            "_model_name": "ButtonStyleModel",
            "_view_count": null,
            "_view_module": "@jupyter-widgets/base",
            "_view_module_version": "1.2.0",
            "_view_name": "StyleView",
            "button_color": null,
            "font_weight": ""
          }
        },
        "f0f5fd2c4c2d4c99ad1691175bdd374c": {
          "model_module": "@jupyter-widgets/controls",
          "model_module_version": "1.5.0",
          "model_name": "FloatProgressModel",
          "state": {
            "_dom_classes": [],
            "_model_module": "@jupyter-widgets/controls",
            "_model_module_version": "1.5.0",
            "_model_name": "FloatProgressModel",
            "_view_count": null,
            "_view_module": "@jupyter-widgets/controls",
            "_view_module_version": "1.5.0",
            "_view_name": "ProgressView",
            "bar_style": "success",
            "description": "",
            "description_tooltip": null,
            "layout": "IPY_MODEL_ffd01903982c42f9a04123b6e1c2d983",
            "max": 11099,
            "min": 0,
            "orientation": "horizontal",
            "style": "IPY_MODEL_4c72df9c41764989a4ca09aec76fa8ab",
            "value": 11099
          }
        },
        "f10f0a9fca6c48fdb4b21c5bc99c52b7": {
          "model_module": "@jupyter-widgets/controls",
          "model_module_version": "1.5.0",
          "model_name": "DescriptionStyleModel",
          "state": {
            "_model_module": "@jupyter-widgets/controls",
            "_model_module_version": "1.5.0",
            "_model_name": "DescriptionStyleModel",
            "_view_count": null,
            "_view_module": "@jupyter-widgets/base",
            "_view_module_version": "1.2.0",
            "_view_name": "StyleView",
            "description_width": ""
          }
        },
        "f7d272e01666403ea525e305cf7acb6f": {
          "model_module": "@jupyter-widgets/controls",
          "model_module_version": "1.5.0",
          "model_name": "ProgressStyleModel",
          "state": {
            "_model_module": "@jupyter-widgets/controls",
            "_model_module_version": "1.5.0",
            "_model_name": "ProgressStyleModel",
            "_view_count": null,
            "_view_module": "@jupyter-widgets/base",
            "_view_module_version": "1.2.0",
            "_view_name": "StyleView",
            "bar_color": null,
            "description_width": ""
          }
        },
        "f846f60eef0443789749fcadb515165a": {
          "model_module": "@jupyter-widgets/controls",
          "model_module_version": "1.5.0",
          "model_name": "DescriptionStyleModel",
          "state": {
            "_model_module": "@jupyter-widgets/controls",
            "_model_module_version": "1.5.0",
            "_model_name": "DescriptionStyleModel",
            "_view_count": null,
            "_view_module": "@jupyter-widgets/base",
            "_view_module_version": "1.2.0",
            "_view_name": "StyleView",
            "description_width": ""
          }
        },
        "faa14aeba4c54ed2bfd3cabf79513d34": {
          "model_module": "@jupyter-widgets/controls",
          "model_module_version": "1.5.0",
          "model_name": "HTMLModel",
          "state": {
            "_dom_classes": [],
            "_model_module": "@jupyter-widgets/controls",
            "_model_module_version": "1.5.0",
            "_model_name": "HTMLModel",
            "_view_count": null,
            "_view_module": "@jupyter-widgets/controls",
            "_view_module_version": "1.5.0",
            "_view_name": "HTMLView",
            "description": "",
            "description_tooltip": null,
            "layout": "IPY_MODEL_02574b4827664e48806c3d4f91c2dcb6",
            "placeholder": "​",
            "style": "IPY_MODEL_aa11714d89534d3cacb9a7c9e8d47f7f",
            "value": " 1/1 [00:11&lt;00:00, 11.51s/ba]"
          }
        },
        "fd83df43e1fc406ba3fb2a21b8c5bd7e": {
          "model_module": "@jupyter-widgets/controls",
          "model_module_version": "1.5.0",
          "model_name": "HTMLModel",
          "state": {
            "_dom_classes": [],
            "_model_module": "@jupyter-widgets/controls",
            "_model_module_version": "1.5.0",
            "_model_name": "HTMLModel",
            "_view_count": null,
            "_view_module": "@jupyter-widgets/controls",
            "_view_module_version": "1.5.0",
            "_view_name": "HTMLView",
            "description": "",
            "description_tooltip": null,
            "layout": "IPY_MODEL_618e9a677d1f497facbaaaafcaedba79",
            "placeholder": "​",
            "style": "IPY_MODEL_f10f0a9fca6c48fdb4b21c5bc99c52b7",
            "value": "100%"
          }
        },
        "fe3f6f655e0148fba562defdfcd2b6db": {
          "model_module": "@jupyter-widgets/controls",
          "model_module_version": "1.5.0",
          "model_name": "HTMLModel",
          "state": {
            "_dom_classes": [],
            "_model_module": "@jupyter-widgets/controls",
            "_model_module_version": "1.5.0",
            "_model_name": "HTMLModel",
            "_view_count": null,
            "_view_module": "@jupyter-widgets/controls",
            "_view_module_version": "1.5.0",
            "_view_name": "HTMLView",
            "description": "",
            "description_tooltip": null,
            "layout": "IPY_MODEL_8539e25aaa664bea86f702bcccbf306d",
            "placeholder": "​",
            "style": "IPY_MODEL_91fc60e418f04c24970bd012d9ea7219",
            "value": "Downloading: 100%"
          }
        },
        "ffd01903982c42f9a04123b6e1c2d983": {
          "model_module": "@jupyter-widgets/base",
          "model_module_version": "1.2.0",
          "model_name": "LayoutModel",
          "state": {
            "_model_module": "@jupyter-widgets/base",
            "_model_module_version": "1.2.0",
            "_model_name": "LayoutModel",
            "_view_count": null,
            "_view_module": "@jupyter-widgets/base",
            "_view_module_version": "1.2.0",
            "_view_name": "LayoutView",
            "align_content": null,
            "align_items": null,
            "align_self": null,
            "border": null,
            "bottom": null,
            "display": null,
            "flex": null,
            "flex_flow": null,
            "grid_area": null,
            "grid_auto_columns": null,
            "grid_auto_flow": null,
            "grid_auto_rows": null,
            "grid_column": null,
            "grid_gap": null,
            "grid_row": null,
            "grid_template_areas": null,
            "grid_template_columns": null,
            "grid_template_rows": null,
            "height": null,
            "justify_content": null,
            "justify_items": null,
            "left": null,
            "margin": null,
            "max_height": null,
            "max_width": null,
            "min_height": null,
            "min_width": null,
            "object_fit": null,
            "object_position": null,
            "order": null,
            "overflow": null,
            "overflow_x": null,
            "overflow_y": null,
            "padding": null,
            "right": null,
            "top": null,
            "visibility": null,
            "width": null
          }
        }
      }
    }
  },
  "nbformat": 4,
  "nbformat_minor": 0
}
